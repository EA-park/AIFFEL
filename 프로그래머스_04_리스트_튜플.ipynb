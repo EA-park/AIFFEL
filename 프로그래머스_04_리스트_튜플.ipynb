{
  "nbformat": 4,
  "nbformat_minor": 0,
  "metadata": {
    "colab": {
      "name": "프로그래머스_04_리스트.튜플.ipynb",
      "provenance": [],
      "authorship_tag": "ABX9TyNpC8D1fH34HVUoL3sCglMY",
      "include_colab_link": true
    },
    "kernelspec": {
      "name": "python3",
      "display_name": "Python 3"
    },
    "language_info": {
      "name": "python"
    }
  },
  "cells": [
    {
      "cell_type": "markdown",
      "metadata": {
        "id": "view-in-github",
        "colab_type": "text"
      },
      "source": [
        "<a href=\"https://colab.research.google.com/github/EA-park/AIFFEL/blob/main/%ED%94%84%EB%A1%9C%EA%B7%B8%EB%9E%98%EB%A8%B8%EC%8A%A4_04_%EB%A6%AC%EC%8A%A4%ED%8A%B8_%ED%8A%9C%ED%94%8C.ipynb\" target=\"_parent\"><img src=\"https://colab.research.google.com/assets/colab-badge.svg\" alt=\"Open In Colab\"/></a>"
      ]
    },
    {
      "cell_type": "markdown",
      "source": [
        "#Python Master 4일차 - 리스트, 튜플"
      ],
      "metadata": {
        "id": "frLyoL56SUGO"
      }
    },
    {
      "cell_type": "markdown",
      "source": [
        "[괄호 변환](https://school.programmers.co.kr/learn/courses/30/lessons/60058)\n",
        "\n",
        "1. 입력이 빈 문자열인 경우, 빈 문자열을 반환합니다. \n",
        "2. 문자열 w를 두 \"균형잡힌 괄호 문자열\" u, v로 분리합니다. 단, u는 \"균형잡힌 괄호 문자열\"로 더 이상 분리할 수 없어야 하며, v는 빈 문자열이 될 수 있습니다. \n",
        "3. 문자열 u가 \"올바른 괄호 문자열\" 이라면 문자열 v에 대해 1단계부터 다시 수행합니다.   \n",
        "  3-1. 수행한 결과 문자열을 u에 이어 붙인 후 반환합니다.   \n",
        "4. 문자열 u가 \"올바른 괄호 문자열\"이 아니라면 아래 과정을 수행합니다.   \n",
        "  4-1. 빈 문자열에 첫 번째 문자로 '('를 붙입니다.   \n",
        "  4-2. 문자열 v에 대해 1단계부터 재귀적으로 수행한 결과 문자열을 이어 붙입니다.   \n",
        "  4-3. ')'를 다시 붙입니다.    \n",
        "  4-4. u의 첫 번째와 마지막 문자를 제거하고, 나머지 문자열의 괄호 방향을 뒤집어서 뒤에 붙입니다.     \n",
        "  4-5. 생성된 문자열을 반환합니다."
      ],
      "metadata": {
        "id": "b66tDcAUx88W"
      }
    },
    {
      "cell_type": "code",
      "source": [
        "def solution(p):\n",
        "    if p == '':\n",
        "        return ''\n",
        "\n",
        "    count = wrong = 0\n",
        "    answer = u = v = ''\n",
        "    for index, letter in enumerate(p):\n",
        "        if letter == '(':\n",
        "            count += 1\n",
        "        else:\n",
        "            count -= 1\n",
        "        \n",
        "        if count < 0: \n",
        "            wrong = 1\n",
        "        elif count == 0:\n",
        "            u = p[:index+1]\n",
        "            try:\n",
        "                v = p[index+1:]\n",
        "            except IndexError:\n",
        "                v = ''\n",
        "            break\n",
        "\n",
        "    if wrong == 0:\n",
        "        answer += u\n",
        "        answer += solution(v)\n",
        "    else:\n",
        "        tmp = '(' + solution(v) + ')'\n",
        "        for letter in u[1:-1]:\n",
        "            if letter == '(':\n",
        "                tmp += ')'\n",
        "            elif letter == ')':\n",
        "                tmp += '('\n",
        "        answer += tmp\n",
        "\n",
        "    return answer"
      ],
      "metadata": {
        "id": "_2GWrnY84L2y"
      },
      "execution_count": null,
      "outputs": []
    },
    {
      "cell_type": "code",
      "source": [
        "print(solution('(()())()'))\n",
        "print(solution(')('))\n",
        "print(solution('()))((()'))"
      ],
      "metadata": {
        "colab": {
          "base_uri": "https://localhost:8080/"
        },
        "id": "fXj09yq99kGR",
        "outputId": "db33b2b6-79fc-468c-fa63-d75eeb304b1f"
      },
      "execution_count": null,
      "outputs": [
        {
          "output_type": "stream",
          "name": "stdout",
          "text": [
            "(()())()\n",
            "()\n",
            "()(())()\n"
          ]
        }
      ]
    },
    {
      "cell_type": "markdown",
      "source": [
        "[튜플](https://school.programmers.co.kr/learn/courses/30/lessons/64065)\n",
        "\n",
        "s가 주어질 때 알맞는 튜플 찾기\n",
        "\n",
        "s = {{a1}, {a1, a2}, {a1, a2, a3}, {a1, a2, a3, a4}, ... {a1, a2, a3, a4, ..., an}}   \n",
        "(a1, a2, a3, ..., an)\n",
        "\n",
        "[제한사항]\n",
        "- s의 길이는 5 이상 1,000,000 이하입니다.\n",
        "- s는 숫자와 '{', '}', ',' 로만 이루어져 있습니다.\n",
        "- 숫자가 0으로 시작하는 경우는 없습니다.\n",
        "- s는 항상 중복되는 원소가 없는 튜플을 올바르게 표현하고 있습니다.\n",
        "- s가 표현하는 튜플의 원소는 1 이상 100,000 이하인 자연수입니다.\n",
        "- return 하는 배열의 길이가 1 이상 500 이하인 경우만 입력으로 주어집니다.\n",
        "\n"
      ],
      "metadata": {
        "id": "3wPkUBl6B-Hk"
      }
    },
    {
      "cell_type": "code",
      "source": [
        "def solution(s):\n",
        "    ss = [_.strip('{}') for _ in s.split('},')]\n",
        "    keys = []\n",
        "    for num in ss:\n",
        "        keys += list(map(int, num.split(',')))\n",
        "    answer = list(set(keys))\n",
        "    dic = {key: 0 for key in answer}\n",
        "\n",
        "    for num in keys:\n",
        "        dic[num] += 1\n",
        "    len_key = len(answer)\n",
        "    \n",
        "    for key, value in dic.items():\n",
        "        answer[value -1] = key \n",
        "    answer.reverse()\n",
        "    return answer"
      ],
      "metadata": {
        "id": "t5k7t_8vDVFv"
      },
      "execution_count": 97,
      "outputs": []
    },
    {
      "cell_type": "code",
      "source": [
        "solution(\"{{4,2,3},{3},{2,3,4,1},{2,3}}\")"
      ],
      "metadata": {
        "colab": {
          "base_uri": "https://localhost:8080/"
        },
        "id": "qgQBgCVtSIp8",
        "outputId": "032e4bc9-42fb-48ac-dded-19a211809750"
      },
      "execution_count": 99,
      "outputs": [
        {
          "output_type": "execute_result",
          "data": {
            "text/plain": [
              "[3, 2, 4, 1]"
            ]
          },
          "metadata": {},
          "execution_count": 99
        }
      ]
    }
  ]
}