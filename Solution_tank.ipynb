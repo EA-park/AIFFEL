{
  "nbformat": 4,
  "nbformat_minor": 0,
  "metadata": {
    "colab": {
      "provenance": [],
      "authorship_tag": "ABX9TyMr8s4zhqedehmTok2v2Qp3",
      "include_colab_link": true
    },
    "kernelspec": {
      "name": "python3",
      "display_name": "Python 3"
    },
    "language_info": {
      "name": "python"
    }
  },
  "cells": [
    {
      "cell_type": "markdown",
      "metadata": {
        "id": "view-in-github",
        "colab_type": "text"
      },
      "source": [
        "<a href=\"https://colab.research.google.com/github/EA-park/AIFFEL/blob/main/Solution_tank.ipynb\" target=\"_parent\"><img src=\"https://colab.research.google.com/assets/colab-badge.svg\" alt=\"Open In Colab\"/></a>"
      ]
    },
    {
      "cell_type": "markdown",
      "source": [
        "#2022년 제2회 K-인공지능 제조데이터 분석 경진대회"
      ],
      "metadata": {
        "id": "TccIymUQJy8i"
      }
    },
    {
      "cell_type": "code",
      "execution_count": 1,
      "metadata": {
        "colab": {
          "base_uri": "https://localhost:8080/"
        },
        "id": "fZKjlTXfJb1v",
        "outputId": "4920c152-e164-4aa7-dab3-af5d99f017f4"
      },
      "outputs": [
        {
          "output_type": "stream",
          "name": "stdout",
          "text": [
            "Mounted at /content/gdrive\n"
          ]
        }
      ],
      "source": [
        "from os.path import join\n",
        "from google.colab import drive\n",
        "\n",
        "ROOT = '/content/gdrive'\n",
        "#drive.mount(ROOT)"
      ]
    },
    {
      "cell_type": "markdown",
      "source": [
        "##Libraries"
      ],
      "metadata": {
        "id": "IsQsEbu3KynQ"
      }
    },
    {
      "cell_type": "code",
      "source": [
        "# Standard libs\n",
        "import numpy as np\n",
        "import pandas as pd\n",
        "\n",
        "# Graphics\n",
        "import matplotlib.pyplot as plt\n",
        "%matplotlib inline\n",
        "import seaborn as sns"
      ],
      "metadata": {
        "id": "Yj0MKu5qKyUg"
      },
      "execution_count": 7,
      "outputs": []
    },
    {
      "cell_type": "markdown",
      "source": [
        "##Reading the data"
      ],
      "metadata": {
        "id": "K4k_szC2LxeI"
      }
    },
    {
      "cell_type": "code",
      "source": [
        "WORKING_DIR = join(ROOT, 'MyDrive/Dacon/202210_KAMP')\n",
        "data = pd.read_csv(join(WORKING_DIR, '경진대회용 용해탱크 데이터셋.csv'))"
      ],
      "metadata": {
        "id": "vPZn_BQ4KeA_"
      },
      "execution_count": 8,
      "outputs": []
    },
    {
      "cell_type": "markdown",
      "source": [
        "###데이터 속성정의\n",
        "<table>\n",
        "  <tr>\n",
        "    <td>변수명</td>\n",
        "    <td>설명</td>\n",
        "    <td>테이터 타입</td>\n",
        "  </tr>\n",
        "  <tr>\n",
        "    <td>STD_DT</td>\n",
        "    <td>날짜,시간(YYYY-MM-DD HH:MM:SS)</td>\n",
        "    <td>object</td>\n",
        "  </tr>\n",
        "  <tr>\n",
        "    <td>NUM</td>\n",
        "    <td>인덱스</td>\n",
        "    <td>int64</td>\n",
        "  </tr>\n",
        "    <tr>\n",
        "    <td>MELT_TEMP</td>\n",
        "    <td>용해 온도</td>\n",
        "    <td>int64</td>\n",
        "  </tr>\n",
        "    <tr>\n",
        "    <td>MOTORSPEED</td>\n",
        "    <td>용해 교반속도</td>\n",
        "    <td>int64</td>\n",
        "  </tr>\n",
        "    <tr>\n",
        "    <td>MELT_WEIGHT</td>\n",
        "    <td>용해탱크 내용량(중량)</td>\n",
        "    <td>int64</td>\n",
        "  </tr>\n",
        "    <tr>\n",
        "    <td>INSP</td>\n",
        "    <td>생산품의 수분햠유량(%)</td>\n",
        "    <td>float64</td>\n",
        "  </tr>\n",
        "    <tr>\n",
        "    <td>TAG</td>\n",
        "    <td>불량여부</td>\n",
        "    <td>object</td>\n",
        "  </tr>\n",
        "</table>\n",
        "\n",
        "      \n",
        "중소벤처기업부, Korea AI Manufacturing Platform(KAMP),\n",
        "용해탱크 AI데이터셋, KAIST(UNIST, 이피엠솔루션즈), 2020.12.14.,\n",
        " https://kamp-ai.kr\n",
        "\n",
        "- 참조 : [용해탱크 AI데이터셋 가이드북](https://www.kamp-ai.kr/front/dataset/AiDataDetail.jsp?AI_SEARCH=&page=1&DATASET_SEQ=8&EQUIP_SEL=&FILE_TYPE_SEL=&GUBUN_SEL=&WDATE_SEL=) "
      ],
      "metadata": {
        "id": "0iWmlA4eNo4z"
      }
    },
    {
      "cell_type": "markdown",
      "source": [
        "###An overview from the data"
      ],
      "metadata": {
        "id": "IrOg-X1BL2rF"
      }
    },
    {
      "cell_type": "code",
      "source": [
        "data.head()"
      ],
      "metadata": {
        "colab": {
          "base_uri": "https://localhost:8080/",
          "height": 206
        },
        "id": "zqwXTxaoL7rK",
        "outputId": "a3f6a5c4-5884-4872-fa32-0f3db19fb663"
      },
      "execution_count": 9,
      "outputs": [
        {
          "output_type": "execute_result",
          "data": {
            "text/plain": [
              "            STD_DT  NUM  MELT_TEMP  MOTORSPEED  MELT_WEIGHT  INSP TAG\n",
              "0  2020-03-04 0:00    0        489         116          631  3.19  OK\n",
              "1  2020-03-04 0:00    1        433          78          609  3.19  OK\n",
              "2  2020-03-04 0:00    2        464         154          608  3.19  OK\n",
              "3  2020-03-04 0:00    3        379         212          606  3.19  OK\n",
              "4  2020-03-04 0:00    4        798        1736          604  3.21  OK"
            ],
            "text/html": [
              "\n",
              "  <div id=\"df-f75ebcc2-53c4-43af-a9d2-53ed5de723c5\">\n",
              "    <div class=\"colab-df-container\">\n",
              "      <div>\n",
              "<style scoped>\n",
              "    .dataframe tbody tr th:only-of-type {\n",
              "        vertical-align: middle;\n",
              "    }\n",
              "\n",
              "    .dataframe tbody tr th {\n",
              "        vertical-align: top;\n",
              "    }\n",
              "\n",
              "    .dataframe thead th {\n",
              "        text-align: right;\n",
              "    }\n",
              "</style>\n",
              "<table border=\"1\" class=\"dataframe\">\n",
              "  <thead>\n",
              "    <tr style=\"text-align: right;\">\n",
              "      <th></th>\n",
              "      <th>STD_DT</th>\n",
              "      <th>NUM</th>\n",
              "      <th>MELT_TEMP</th>\n",
              "      <th>MOTORSPEED</th>\n",
              "      <th>MELT_WEIGHT</th>\n",
              "      <th>INSP</th>\n",
              "      <th>TAG</th>\n",
              "    </tr>\n",
              "  </thead>\n",
              "  <tbody>\n",
              "    <tr>\n",
              "      <th>0</th>\n",
              "      <td>2020-03-04 0:00</td>\n",
              "      <td>0</td>\n",
              "      <td>489</td>\n",
              "      <td>116</td>\n",
              "      <td>631</td>\n",
              "      <td>3.19</td>\n",
              "      <td>OK</td>\n",
              "    </tr>\n",
              "    <tr>\n",
              "      <th>1</th>\n",
              "      <td>2020-03-04 0:00</td>\n",
              "      <td>1</td>\n",
              "      <td>433</td>\n",
              "      <td>78</td>\n",
              "      <td>609</td>\n",
              "      <td>3.19</td>\n",
              "      <td>OK</td>\n",
              "    </tr>\n",
              "    <tr>\n",
              "      <th>2</th>\n",
              "      <td>2020-03-04 0:00</td>\n",
              "      <td>2</td>\n",
              "      <td>464</td>\n",
              "      <td>154</td>\n",
              "      <td>608</td>\n",
              "      <td>3.19</td>\n",
              "      <td>OK</td>\n",
              "    </tr>\n",
              "    <tr>\n",
              "      <th>3</th>\n",
              "      <td>2020-03-04 0:00</td>\n",
              "      <td>3</td>\n",
              "      <td>379</td>\n",
              "      <td>212</td>\n",
              "      <td>606</td>\n",
              "      <td>3.19</td>\n",
              "      <td>OK</td>\n",
              "    </tr>\n",
              "    <tr>\n",
              "      <th>4</th>\n",
              "      <td>2020-03-04 0:00</td>\n",
              "      <td>4</td>\n",
              "      <td>798</td>\n",
              "      <td>1736</td>\n",
              "      <td>604</td>\n",
              "      <td>3.21</td>\n",
              "      <td>OK</td>\n",
              "    </tr>\n",
              "  </tbody>\n",
              "</table>\n",
              "</div>\n",
              "      <button class=\"colab-df-convert\" onclick=\"convertToInteractive('df-f75ebcc2-53c4-43af-a9d2-53ed5de723c5')\"\n",
              "              title=\"Convert this dataframe to an interactive table.\"\n",
              "              style=\"display:none;\">\n",
              "        \n",
              "  <svg xmlns=\"http://www.w3.org/2000/svg\" height=\"24px\"viewBox=\"0 0 24 24\"\n",
              "       width=\"24px\">\n",
              "    <path d=\"M0 0h24v24H0V0z\" fill=\"none\"/>\n",
              "    <path d=\"M18.56 5.44l.94 2.06.94-2.06 2.06-.94-2.06-.94-.94-2.06-.94 2.06-2.06.94zm-11 1L8.5 8.5l.94-2.06 2.06-.94-2.06-.94L8.5 2.5l-.94 2.06-2.06.94zm10 10l.94 2.06.94-2.06 2.06-.94-2.06-.94-.94-2.06-.94 2.06-2.06.94z\"/><path d=\"M17.41 7.96l-1.37-1.37c-.4-.4-.92-.59-1.43-.59-.52 0-1.04.2-1.43.59L10.3 9.45l-7.72 7.72c-.78.78-.78 2.05 0 2.83L4 21.41c.39.39.9.59 1.41.59.51 0 1.02-.2 1.41-.59l7.78-7.78 2.81-2.81c.8-.78.8-2.07 0-2.86zM5.41 20L4 18.59l7.72-7.72 1.47 1.35L5.41 20z\"/>\n",
              "  </svg>\n",
              "      </button>\n",
              "      \n",
              "  <style>\n",
              "    .colab-df-container {\n",
              "      display:flex;\n",
              "      flex-wrap:wrap;\n",
              "      gap: 12px;\n",
              "    }\n",
              "\n",
              "    .colab-df-convert {\n",
              "      background-color: #E8F0FE;\n",
              "      border: none;\n",
              "      border-radius: 50%;\n",
              "      cursor: pointer;\n",
              "      display: none;\n",
              "      fill: #1967D2;\n",
              "      height: 32px;\n",
              "      padding: 0 0 0 0;\n",
              "      width: 32px;\n",
              "    }\n",
              "\n",
              "    .colab-df-convert:hover {\n",
              "      background-color: #E2EBFA;\n",
              "      box-shadow: 0px 1px 2px rgba(60, 64, 67, 0.3), 0px 1px 3px 1px rgba(60, 64, 67, 0.15);\n",
              "      fill: #174EA6;\n",
              "    }\n",
              "\n",
              "    [theme=dark] .colab-df-convert {\n",
              "      background-color: #3B4455;\n",
              "      fill: #D2E3FC;\n",
              "    }\n",
              "\n",
              "    [theme=dark] .colab-df-convert:hover {\n",
              "      background-color: #434B5C;\n",
              "      box-shadow: 0px 1px 3px 1px rgba(0, 0, 0, 0.15);\n",
              "      filter: drop-shadow(0px 1px 2px rgba(0, 0, 0, 0.3));\n",
              "      fill: #FFFFFF;\n",
              "    }\n",
              "  </style>\n",
              "\n",
              "      <script>\n",
              "        const buttonEl =\n",
              "          document.querySelector('#df-f75ebcc2-53c4-43af-a9d2-53ed5de723c5 button.colab-df-convert');\n",
              "        buttonEl.style.display =\n",
              "          google.colab.kernel.accessAllowed ? 'block' : 'none';\n",
              "\n",
              "        async function convertToInteractive(key) {\n",
              "          const element = document.querySelector('#df-f75ebcc2-53c4-43af-a9d2-53ed5de723c5');\n",
              "          const dataTable =\n",
              "            await google.colab.kernel.invokeFunction('convertToInteractive',\n",
              "                                                     [key], {});\n",
              "          if (!dataTable) return;\n",
              "\n",
              "          const docLinkHtml = 'Like what you see? Visit the ' +\n",
              "            '<a target=\"_blank\" href=https://colab.research.google.com/notebooks/data_table.ipynb>data table notebook</a>'\n",
              "            + ' to learn more about interactive tables.';\n",
              "          element.innerHTML = '';\n",
              "          dataTable['output_type'] = 'display_data';\n",
              "          await google.colab.output.renderOutput(dataTable, element);\n",
              "          const docLink = document.createElement('div');\n",
              "          docLink.innerHTML = docLinkHtml;\n",
              "          element.appendChild(docLink);\n",
              "        }\n",
              "      </script>\n",
              "    </div>\n",
              "  </div>\n",
              "  "
            ]
          },
          "metadata": {},
          "execution_count": 9
        }
      ]
    },
    {
      "cell_type": "code",
      "source": [
        "data.info()"
      ],
      "metadata": {
        "colab": {
          "base_uri": "https://localhost:8080/"
        },
        "id": "02K3mkLzSfkc",
        "outputId": "c059a7e6-5b1c-48da-b42d-ea31856cedcb"
      },
      "execution_count": 10,
      "outputs": [
        {
          "output_type": "stream",
          "name": "stdout",
          "text": [
            "<class 'pandas.core.frame.DataFrame'>\n",
            "RangeIndex: 835200 entries, 0 to 835199\n",
            "Data columns (total 7 columns):\n",
            " #   Column       Non-Null Count   Dtype  \n",
            "---  ------       --------------   -----  \n",
            " 0   STD_DT       835200 non-null  object \n",
            " 1   NUM          835200 non-null  int64  \n",
            " 2   MELT_TEMP    835200 non-null  int64  \n",
            " 3   MOTORSPEED   835200 non-null  int64  \n",
            " 4   MELT_WEIGHT  835200 non-null  int64  \n",
            " 5   INSP         835200 non-null  float64\n",
            " 6   TAG          835200 non-null  object \n",
            "dtypes: float64(1), int64(4), object(2)\n",
            "memory usage: 44.6+ MB\n"
          ]
        }
      ]
    },
    {
      "cell_type": "code",
      "source": [
        "data.describe()"
      ],
      "metadata": {
        "colab": {
          "base_uri": "https://localhost:8080/",
          "height": 300
        },
        "id": "xXg9gOZuTJBq",
        "outputId": "ece7973f-ab75-4794-f632-12b10df4d62b"
      },
      "execution_count": 11,
      "outputs": [
        {
          "output_type": "execute_result",
          "data": {
            "text/plain": [
              "                 NUM      MELT_TEMP     MOTORSPEED    MELT_WEIGHT  \\\n",
              "count  835200.000000  835200.000000  835200.000000  835200.000000   \n",
              "mean   417599.500000     509.200623     459.782865     582.962125   \n",
              "std    241101.616751     128.277519     639.436413    1217.604433   \n",
              "min         0.000000     308.000000       0.000000       0.000000   \n",
              "25%    208799.750000     430.000000     119.000000     186.000000   \n",
              "50%    417599.500000     469.000000     168.000000     383.000000   \n",
              "75%    626399.250000     502.000000     218.000000     583.000000   \n",
              "max    835199.000000     832.000000    1804.000000   55252.000000   \n",
              "\n",
              "                INSP  \n",
              "count  835200.000000  \n",
              "mean        3.194853  \n",
              "std         0.011822  \n",
              "min         3.170000  \n",
              "25%         3.190000  \n",
              "50%         3.190000  \n",
              "75%         3.200000  \n",
              "max         3.230000  "
            ],
            "text/html": [
              "\n",
              "  <div id=\"df-df588f69-70eb-4b2d-b049-dd66af7f4c3d\">\n",
              "    <div class=\"colab-df-container\">\n",
              "      <div>\n",
              "<style scoped>\n",
              "    .dataframe tbody tr th:only-of-type {\n",
              "        vertical-align: middle;\n",
              "    }\n",
              "\n",
              "    .dataframe tbody tr th {\n",
              "        vertical-align: top;\n",
              "    }\n",
              "\n",
              "    .dataframe thead th {\n",
              "        text-align: right;\n",
              "    }\n",
              "</style>\n",
              "<table border=\"1\" class=\"dataframe\">\n",
              "  <thead>\n",
              "    <tr style=\"text-align: right;\">\n",
              "      <th></th>\n",
              "      <th>NUM</th>\n",
              "      <th>MELT_TEMP</th>\n",
              "      <th>MOTORSPEED</th>\n",
              "      <th>MELT_WEIGHT</th>\n",
              "      <th>INSP</th>\n",
              "    </tr>\n",
              "  </thead>\n",
              "  <tbody>\n",
              "    <tr>\n",
              "      <th>count</th>\n",
              "      <td>835200.000000</td>\n",
              "      <td>835200.000000</td>\n",
              "      <td>835200.000000</td>\n",
              "      <td>835200.000000</td>\n",
              "      <td>835200.000000</td>\n",
              "    </tr>\n",
              "    <tr>\n",
              "      <th>mean</th>\n",
              "      <td>417599.500000</td>\n",
              "      <td>509.200623</td>\n",
              "      <td>459.782865</td>\n",
              "      <td>582.962125</td>\n",
              "      <td>3.194853</td>\n",
              "    </tr>\n",
              "    <tr>\n",
              "      <th>std</th>\n",
              "      <td>241101.616751</td>\n",
              "      <td>128.277519</td>\n",
              "      <td>639.436413</td>\n",
              "      <td>1217.604433</td>\n",
              "      <td>0.011822</td>\n",
              "    </tr>\n",
              "    <tr>\n",
              "      <th>min</th>\n",
              "      <td>0.000000</td>\n",
              "      <td>308.000000</td>\n",
              "      <td>0.000000</td>\n",
              "      <td>0.000000</td>\n",
              "      <td>3.170000</td>\n",
              "    </tr>\n",
              "    <tr>\n",
              "      <th>25%</th>\n",
              "      <td>208799.750000</td>\n",
              "      <td>430.000000</td>\n",
              "      <td>119.000000</td>\n",
              "      <td>186.000000</td>\n",
              "      <td>3.190000</td>\n",
              "    </tr>\n",
              "    <tr>\n",
              "      <th>50%</th>\n",
              "      <td>417599.500000</td>\n",
              "      <td>469.000000</td>\n",
              "      <td>168.000000</td>\n",
              "      <td>383.000000</td>\n",
              "      <td>3.190000</td>\n",
              "    </tr>\n",
              "    <tr>\n",
              "      <th>75%</th>\n",
              "      <td>626399.250000</td>\n",
              "      <td>502.000000</td>\n",
              "      <td>218.000000</td>\n",
              "      <td>583.000000</td>\n",
              "      <td>3.200000</td>\n",
              "    </tr>\n",
              "    <tr>\n",
              "      <th>max</th>\n",
              "      <td>835199.000000</td>\n",
              "      <td>832.000000</td>\n",
              "      <td>1804.000000</td>\n",
              "      <td>55252.000000</td>\n",
              "      <td>3.230000</td>\n",
              "    </tr>\n",
              "  </tbody>\n",
              "</table>\n",
              "</div>\n",
              "      <button class=\"colab-df-convert\" onclick=\"convertToInteractive('df-df588f69-70eb-4b2d-b049-dd66af7f4c3d')\"\n",
              "              title=\"Convert this dataframe to an interactive table.\"\n",
              "              style=\"display:none;\">\n",
              "        \n",
              "  <svg xmlns=\"http://www.w3.org/2000/svg\" height=\"24px\"viewBox=\"0 0 24 24\"\n",
              "       width=\"24px\">\n",
              "    <path d=\"M0 0h24v24H0V0z\" fill=\"none\"/>\n",
              "    <path d=\"M18.56 5.44l.94 2.06.94-2.06 2.06-.94-2.06-.94-.94-2.06-.94 2.06-2.06.94zm-11 1L8.5 8.5l.94-2.06 2.06-.94-2.06-.94L8.5 2.5l-.94 2.06-2.06.94zm10 10l.94 2.06.94-2.06 2.06-.94-2.06-.94-.94-2.06-.94 2.06-2.06.94z\"/><path d=\"M17.41 7.96l-1.37-1.37c-.4-.4-.92-.59-1.43-.59-.52 0-1.04.2-1.43.59L10.3 9.45l-7.72 7.72c-.78.78-.78 2.05 0 2.83L4 21.41c.39.39.9.59 1.41.59.51 0 1.02-.2 1.41-.59l7.78-7.78 2.81-2.81c.8-.78.8-2.07 0-2.86zM5.41 20L4 18.59l7.72-7.72 1.47 1.35L5.41 20z\"/>\n",
              "  </svg>\n",
              "      </button>\n",
              "      \n",
              "  <style>\n",
              "    .colab-df-container {\n",
              "      display:flex;\n",
              "      flex-wrap:wrap;\n",
              "      gap: 12px;\n",
              "    }\n",
              "\n",
              "    .colab-df-convert {\n",
              "      background-color: #E8F0FE;\n",
              "      border: none;\n",
              "      border-radius: 50%;\n",
              "      cursor: pointer;\n",
              "      display: none;\n",
              "      fill: #1967D2;\n",
              "      height: 32px;\n",
              "      padding: 0 0 0 0;\n",
              "      width: 32px;\n",
              "    }\n",
              "\n",
              "    .colab-df-convert:hover {\n",
              "      background-color: #E2EBFA;\n",
              "      box-shadow: 0px 1px 2px rgba(60, 64, 67, 0.3), 0px 1px 3px 1px rgba(60, 64, 67, 0.15);\n",
              "      fill: #174EA6;\n",
              "    }\n",
              "\n",
              "    [theme=dark] .colab-df-convert {\n",
              "      background-color: #3B4455;\n",
              "      fill: #D2E3FC;\n",
              "    }\n",
              "\n",
              "    [theme=dark] .colab-df-convert:hover {\n",
              "      background-color: #434B5C;\n",
              "      box-shadow: 0px 1px 3px 1px rgba(0, 0, 0, 0.15);\n",
              "      filter: drop-shadow(0px 1px 2px rgba(0, 0, 0, 0.3));\n",
              "      fill: #FFFFFF;\n",
              "    }\n",
              "  </style>\n",
              "\n",
              "      <script>\n",
              "        const buttonEl =\n",
              "          document.querySelector('#df-df588f69-70eb-4b2d-b049-dd66af7f4c3d button.colab-df-convert');\n",
              "        buttonEl.style.display =\n",
              "          google.colab.kernel.accessAllowed ? 'block' : 'none';\n",
              "\n",
              "        async function convertToInteractive(key) {\n",
              "          const element = document.querySelector('#df-df588f69-70eb-4b2d-b049-dd66af7f4c3d');\n",
              "          const dataTable =\n",
              "            await google.colab.kernel.invokeFunction('convertToInteractive',\n",
              "                                                     [key], {});\n",
              "          if (!dataTable) return;\n",
              "\n",
              "          const docLinkHtml = 'Like what you see? Visit the ' +\n",
              "            '<a target=\"_blank\" href=https://colab.research.google.com/notebooks/data_table.ipynb>data table notebook</a>'\n",
              "            + ' to learn more about interactive tables.';\n",
              "          element.innerHTML = '';\n",
              "          dataTable['output_type'] = 'display_data';\n",
              "          await google.colab.output.renderOutput(dataTable, element);\n",
              "          const docLink = document.createElement('div');\n",
              "          docLink.innerHTML = docLinkHtml;\n",
              "          element.appendChild(docLink);\n",
              "        }\n",
              "      </script>\n",
              "    </div>\n",
              "  </div>\n",
              "  "
            ]
          },
          "metadata": {},
          "execution_count": 11
        }
      ]
    },
    {
      "cell_type": "code",
      "source": [
        "data['STD_DT'] = data['STD_DT'].apply(lambda x: pd.to_datetime(str(x), \n",
        "                                                               format='%Y-%m-%d %H:%M:%S'))"
      ],
      "metadata": {
        "id": "Ly1MWgLsTcWR"
      },
      "execution_count": 12,
      "outputs": []
    }
  ]
}