{
  "nbformat": 4,
  "nbformat_minor": 0,
  "metadata": {
    "colab": {
      "provenance": [],
      "collapsed_sections": [],
      "include_colab_link": true
    },
    "kernelspec": {
      "name": "python3",
      "display_name": "Python 3"
    },
    "language_info": {
      "name": "python"
    }
  },
  "cells": [
    {
      "cell_type": "markdown",
      "metadata": {
        "id": "view-in-github",
        "colab_type": "text"
      },
      "source": [
        "<a href=\"https://colab.research.google.com/github/EA-park/AIFFEL/blob/main/%5BExp_01%5DSklearn_Classifiers_with_toy_datasets(digits%2C_wine%2C_breast_cancer).ipynb\" target=\"_parent\"><img src=\"https://colab.research.google.com/assets/colab-badge.svg\" alt=\"Open In Colab\"/></a>"
      ]
    },
    {
      "cell_type": "markdown",
      "source": [
        "평가문항(상세기준)\n",
        "\n",
        "1. 3가지 데이터셋의 구성을 파악하고, 데이터를 이해하는 과정이 포함되어있는가?\n",
        "     - feature와 label 선정을 위한 데이터 분석과정을 전개함\n",
        "\n",
        "2. 3가지 데이터셋에 대해 각각 5가지 모델을 이용하여 학습을 수행하고 결과값을 얻었는가?\n",
        "    - 모델학습 및 테스트가 정상적으로 수행되고, 결과값을 얻었음\n",
        "\n",
        "3. 3가지 데이터셋에 대해 모델의 평가 지표를 선택하고, 그 이유를 근거를 바탕으로 서술하였는가?\n",
        "    - 모델학습을 통해 얻은 결과물을 바탕으로 평가지표를 선택하고, 본인의 의견을 서술하였음"
      ],
      "metadata": {
        "id": "LVOiEkkiMIT-"
      }
    },
    {
      "cell_type": "code",
      "source": [
        "import pandas as pd\n",
        "\n",
        "from sklearn.model_selection import train_test_split\n",
        "from sklearn.metrics import classification_report\n",
        "\n",
        "from sklearn.tree import DecisionTreeClassifier\n",
        "from sklearn.ensemble import RandomForestClassifier\n",
        "from sklearn import svm\n",
        "from sklearn.linear_model import SGDClassifier\n",
        "from sklearn.linear_model import LogisticRegression"
      ],
      "metadata": {
        "id": "faBl_bW3UKKm"
      },
      "execution_count": 1,
      "outputs": []
    },
    {
      "cell_type": "markdown",
      "source": [
        "#프로젝트 (1) load_digits : 손글씨 분류"
      ],
      "metadata": {
        "id": "Nu2n0ZlQLyI4"
      }
    },
    {
      "cell_type": "markdown",
      "source": [
        "###1. 필요한 모듈 import"
      ],
      "metadata": {
        "id": "JkeL79XeNJnK"
      }
    },
    {
      "cell_type": "code",
      "source": [
        "from sklearn.datasets import load_digits"
      ],
      "metadata": {
        "id": "aYu53oNuMCeM"
      },
      "execution_count": 2,
      "outputs": []
    },
    {
      "cell_type": "markdown",
      "source": [
        "###2. 데이터 준비"
      ],
      "metadata": {
        "id": "utUiSMPoNWB7"
      }
    },
    {
      "cell_type": "code",
      "source": [
        "digits = load_digits()"
      ],
      "metadata": {
        "id": "GLXPDPGWNX81"
      },
      "execution_count": 3,
      "outputs": []
    },
    {
      "cell_type": "markdown",
      "source": [
        "###3. 데이터 이해하기"
      ],
      "metadata": {
        "id": "EeYWZ2nzNifL"
      }
    },
    {
      "cell_type": "markdown",
      "source": [
        "3.1. 데이터 확인하기"
      ],
      "metadata": {
        "id": "TIj_Xl0VRhJy"
      }
    },
    {
      "cell_type": "code",
      "source": [
        "# 1) digits의 변수와 메서드 확인\n",
        "print(dir(digits))\n",
        "# 2) digits의 key 확인\n",
        "print(digits.keys())"
      ],
      "metadata": {
        "colab": {
          "base_uri": "https://localhost:8080/"
        },
        "id": "JRXMW71FOWdW",
        "outputId": "a50413f5-52ec-4013-c9ea-250631c9943d"
      },
      "execution_count": 4,
      "outputs": [
        {
          "output_type": "stream",
          "name": "stdout",
          "text": [
            "['DESCR', 'data', 'feature_names', 'frame', 'images', 'target', 'target_names']\n",
            "dict_keys(['data', 'target', 'frame', 'feature_names', 'target_names', 'images', 'DESCR'])\n"
          ]
        }
      ]
    },
    {
      "cell_type": "code",
      "source": [
        "# 3) feature와 target의 이름 확인\n",
        "print(digits.feature_names)\n",
        "print(digits.target_names)"
      ],
      "metadata": {
        "colab": {
          "base_uri": "https://localhost:8080/"
        },
        "id": "yzlmjc6fQHAr",
        "outputId": "5d944723-ba05-4fcf-d115-3363a706d8fb"
      },
      "execution_count": 5,
      "outputs": [
        {
          "output_type": "stream",
          "name": "stdout",
          "text": [
            "['pixel_0_0', 'pixel_0_1', 'pixel_0_2', 'pixel_0_3', 'pixel_0_4', 'pixel_0_5', 'pixel_0_6', 'pixel_0_7', 'pixel_1_0', 'pixel_1_1', 'pixel_1_2', 'pixel_1_3', 'pixel_1_4', 'pixel_1_5', 'pixel_1_6', 'pixel_1_7', 'pixel_2_0', 'pixel_2_1', 'pixel_2_2', 'pixel_2_3', 'pixel_2_4', 'pixel_2_5', 'pixel_2_6', 'pixel_2_7', 'pixel_3_0', 'pixel_3_1', 'pixel_3_2', 'pixel_3_3', 'pixel_3_4', 'pixel_3_5', 'pixel_3_6', 'pixel_3_7', 'pixel_4_0', 'pixel_4_1', 'pixel_4_2', 'pixel_4_3', 'pixel_4_4', 'pixel_4_5', 'pixel_4_6', 'pixel_4_7', 'pixel_5_0', 'pixel_5_1', 'pixel_5_2', 'pixel_5_3', 'pixel_5_4', 'pixel_5_5', 'pixel_5_6', 'pixel_5_7', 'pixel_6_0', 'pixel_6_1', 'pixel_6_2', 'pixel_6_3', 'pixel_6_4', 'pixel_6_5', 'pixel_6_6', 'pixel_6_7', 'pixel_7_0', 'pixel_7_1', 'pixel_7_2', 'pixel_7_3', 'pixel_7_4', 'pixel_7_5', 'pixel_7_6', 'pixel_7_7']\n",
            "[0 1 2 3 4 5 6 7 8 9]\n"
          ]
        }
      ]
    },
    {
      "cell_type": "code",
      "source": [
        "# 4) 데이터셋 확인\n",
        "print(digits.DESCR)"
      ],
      "metadata": {
        "colab": {
          "base_uri": "https://localhost:8080/"
        },
        "id": "VmE4ydRIQb99",
        "outputId": "80c92587-5f7f-448c-934e-69b9242c2275"
      },
      "execution_count": 6,
      "outputs": [
        {
          "output_type": "stream",
          "name": "stdout",
          "text": [
            ".. _digits_dataset:\n",
            "\n",
            "Optical recognition of handwritten digits dataset\n",
            "--------------------------------------------------\n",
            "\n",
            "**Data Set Characteristics:**\n",
            "\n",
            "    :Number of Instances: 1797\n",
            "    :Number of Attributes: 64\n",
            "    :Attribute Information: 8x8 image of integer pixels in the range 0..16.\n",
            "    :Missing Attribute Values: None\n",
            "    :Creator: E. Alpaydin (alpaydin '@' boun.edu.tr)\n",
            "    :Date: July; 1998\n",
            "\n",
            "This is a copy of the test set of the UCI ML hand-written digits datasets\n",
            "https://archive.ics.uci.edu/ml/datasets/Optical+Recognition+of+Handwritten+Digits\n",
            "\n",
            "The data set contains images of hand-written digits: 10 classes where\n",
            "each class refers to a digit.\n",
            "\n",
            "Preprocessing programs made available by NIST were used to extract\n",
            "normalized bitmaps of handwritten digits from a preprinted form. From a\n",
            "total of 43 people, 30 contributed to the training set and different 13\n",
            "to the test set. 32x32 bitmaps are divided into nonoverlapping blocks of\n",
            "4x4 and the number of on pixels are counted in each block. This generates\n",
            "an input matrix of 8x8 where each element is an integer in the range\n",
            "0..16. This reduces dimensionality and gives invariance to small\n",
            "distortions.\n",
            "\n",
            "For info on NIST preprocessing routines, see M. D. Garris, J. L. Blue, G.\n",
            "T. Candela, D. L. Dimmick, J. Geist, P. J. Grother, S. A. Janet, and C.\n",
            "L. Wilson, NIST Form-Based Handprint Recognition System, NISTIR 5469,\n",
            "1994.\n",
            "\n",
            ".. topic:: References\n",
            "\n",
            "  - C. Kaynak (1995) Methods of Combining Multiple Classifiers and Their\n",
            "    Applications to Handwritten Digit Recognition, MSc Thesis, Institute of\n",
            "    Graduate Studies in Science and Engineering, Bogazici University.\n",
            "  - E. Alpaydin, C. Kaynak (1998) Cascading Classifiers, Kybernetika.\n",
            "  - Ken Tang and Ponnuthurai N. Suganthan and Xi Yao and A. Kai Qin.\n",
            "    Linear dimensionalityreduction using relevance weighted LDA. School of\n",
            "    Electrical and Electronic Engineering Nanyang Technological University.\n",
            "    2005.\n",
            "  - Claudio Gentile. A New Approximate Maximal Margin Classification\n",
            "    Algorithm. NIPS. 2000.\n",
            "\n"
          ]
        }
      ]
    },
    {
      "cell_type": "markdown",
      "source": [
        "3.2. feature와 label 설정하기"
      ],
      "metadata": {
        "id": "3i2rtk18RpQu"
      }
    },
    {
      "cell_type": "code",
      "source": [
        "print(digits.data.shape)\n",
        "print(digits.data[0])\n",
        "digits_data = digits.data"
      ],
      "metadata": {
        "colab": {
          "base_uri": "https://localhost:8080/"
        },
        "id": "bW0Uh8AjN6t0",
        "outputId": "cff77d0d-49e3-40fb-f514-909a2250bc89"
      },
      "execution_count": 7,
      "outputs": [
        {
          "output_type": "stream",
          "name": "stdout",
          "text": [
            "(1797, 64)\n",
            "[ 0.  0.  5. 13.  9.  1.  0.  0.  0.  0. 13. 15. 10. 15.  5.  0.  0.  3.\n",
            " 15.  2.  0. 11.  8.  0.  0.  4. 12.  0.  0.  8.  8.  0.  0.  5.  8.  0.\n",
            "  0.  9.  8.  0.  0.  4. 11.  0.  1. 12.  7.  0.  0.  2. 14.  5. 10. 12.\n",
            "  0.  0.  0.  0.  6. 13. 10.  0.  0.  0.]\n"
          ]
        }
      ]
    },
    {
      "cell_type": "code",
      "source": [
        "print(digits.target.shape)\n",
        "print(digits.target[0:10])\n",
        "digits_label = digits.target"
      ],
      "metadata": {
        "colab": {
          "base_uri": "https://localhost:8080/"
        },
        "id": "QCqI9agFP4uu",
        "outputId": "24a23ca9-9755-4c6d-cb64-67306baf290d"
      },
      "execution_count": 8,
      "outputs": [
        {
          "output_type": "stream",
          "name": "stdout",
          "text": [
            "(1797,)\n",
            "[0 1 2 3 4 5 6 7 8 9]\n"
          ]
        }
      ]
    },
    {
      "cell_type": "markdown",
      "source": [
        "###4. train, test 데이터 분리"
      ],
      "metadata": {
        "id": "OV_oB1L9SVFZ"
      }
    },
    {
      "cell_type": "code",
      "source": [
        "X_train, X_test, y_train, y_test = train_test_split(digits_data, digits_label, test_size=0.2, random_state=14)"
      ],
      "metadata": {
        "id": "x8Vr4jS_SpE9"
      },
      "execution_count": 9,
      "outputs": []
    },
    {
      "cell_type": "markdown",
      "source": [
        "###5. 다양한 모델로 학습시켜보기"
      ],
      "metadata": {
        "id": "RK5Z63p_TwdW"
      }
    },
    {
      "cell_type": "markdown",
      "source": [
        "1) Decision Tree"
      ],
      "metadata": {
        "id": "jj05R57pUprE"
      }
    },
    {
      "cell_type": "code",
      "source": [
        "decision_tree_model = DecisionTreeClassifier()\n",
        "decision_tree_model.fit(X_train, y_train)\n",
        "y_pred_tree = decision_tree_model.predict(X_test)"
      ],
      "metadata": {
        "id": "SI2C5Mh2TzPS"
      },
      "execution_count": 10,
      "outputs": []
    },
    {
      "cell_type": "code",
      "source": [
        "print(classification_report(y_test, y_pred_tree))"
      ],
      "metadata": {
        "colab": {
          "base_uri": "https://localhost:8080/"
        },
        "id": "R9myih1KZ0QF",
        "outputId": "de33d575-e434-4459-bccd-fe553ebf4d49"
      },
      "execution_count": 11,
      "outputs": [
        {
          "output_type": "stream",
          "name": "stdout",
          "text": [
            "              precision    recall  f1-score   support\n",
            "\n",
            "           0       0.97      0.94      0.95        32\n",
            "           1       0.79      0.79      0.79        28\n",
            "           2       0.86      0.86      0.86        29\n",
            "           3       0.67      0.76      0.71        37\n",
            "           4       0.87      0.87      0.87        31\n",
            "           5       0.79      0.86      0.82        35\n",
            "           6       0.90      0.95      0.92        37\n",
            "           7       0.97      0.77      0.86        43\n",
            "           8       0.82      0.84      0.83        38\n",
            "           9       0.82      0.80      0.81        50\n",
            "\n",
            "    accuracy                           0.84       360\n",
            "   macro avg       0.84      0.84      0.84       360\n",
            "weighted avg       0.85      0.84      0.84       360\n",
            "\n"
          ]
        }
      ]
    },
    {
      "cell_type": "code",
      "source": [
        "# 평가지표 : f1-score의 macro avg\n",
        "model_validation_digits = {'Decision tree' : 0.84}"
      ],
      "metadata": {
        "id": "Q5ve_y4p2954"
      },
      "execution_count": 175,
      "outputs": []
    },
    {
      "cell_type": "markdown",
      "source": [
        "2) Random Forest"
      ],
      "metadata": {
        "id": "3r5tDDFFUsW5"
      }
    },
    {
      "cell_type": "code",
      "source": [
        "random_forest_model = RandomForestClassifier()\n",
        "random_forest_model.fit(X_train, y_train)\n",
        "y_pred_forest = random_forest_model.predict(X_test)"
      ],
      "metadata": {
        "id": "7WaKAD4oUuBf"
      },
      "execution_count": 12,
      "outputs": []
    },
    {
      "cell_type": "code",
      "source": [
        "print(classification_report(y_test, y_pred_forest))"
      ],
      "metadata": {
        "colab": {
          "base_uri": "https://localhost:8080/"
        },
        "id": "dLpkCHvbaBUG",
        "outputId": "8310bd1a-f778-48dd-8023-fd2fb48c4329"
      },
      "execution_count": 13,
      "outputs": [
        {
          "output_type": "stream",
          "name": "stdout",
          "text": [
            "              precision    recall  f1-score   support\n",
            "\n",
            "           0       1.00      0.97      0.98        32\n",
            "           1       0.97      1.00      0.98        28\n",
            "           2       1.00      1.00      1.00        29\n",
            "           3       0.97      0.97      0.97        37\n",
            "           4       0.97      1.00      0.98        31\n",
            "           5       0.97      1.00      0.99        35\n",
            "           6       1.00      1.00      1.00        37\n",
            "           7       1.00      1.00      1.00        43\n",
            "           8       1.00      0.97      0.99        38\n",
            "           9       1.00      0.98      0.99        50\n",
            "\n",
            "    accuracy                           0.99       360\n",
            "   macro avg       0.99      0.99      0.99       360\n",
            "weighted avg       0.99      0.99      0.99       360\n",
            "\n"
          ]
        }
      ]
    },
    {
      "cell_type": "code",
      "source": [
        "# 평가지표 : f1-score의 macro avg\n",
        "model_validation_digits['Random forest'] = 0.99"
      ],
      "metadata": {
        "id": "UHD-aohD3Jgt"
      },
      "execution_count": 176,
      "outputs": []
    },
    {
      "cell_type": "markdown",
      "source": [
        "3) SVM"
      ],
      "metadata": {
        "id": "gIK_diK8UuSI"
      }
    },
    {
      "cell_type": "code",
      "source": [
        "svm_model = svm.SVC()\n",
        "svm_model.fit(X_train, y_train)\n",
        "y_pred_svm = svm_model.predict(X_test)"
      ],
      "metadata": {
        "id": "nvlx5l4pUvck"
      },
      "execution_count": 14,
      "outputs": []
    },
    {
      "cell_type": "code",
      "source": [
        "print(classification_report(y_test, y_pred_svm))"
      ],
      "metadata": {
        "colab": {
          "base_uri": "https://localhost:8080/"
        },
        "id": "TJ4FhA1vaCee",
        "outputId": "9cb0e6c1-c372-45e2-b622-40e9461837a8"
      },
      "execution_count": 15,
      "outputs": [
        {
          "output_type": "stream",
          "name": "stdout",
          "text": [
            "              precision    recall  f1-score   support\n",
            "\n",
            "           0       1.00      1.00      1.00        32\n",
            "           1       0.97      1.00      0.98        28\n",
            "           2       0.97      1.00      0.98        29\n",
            "           3       1.00      0.97      0.99        37\n",
            "           4       1.00      1.00      1.00        31\n",
            "           5       1.00      1.00      1.00        35\n",
            "           6       1.00      1.00      1.00        37\n",
            "           7       1.00      1.00      1.00        43\n",
            "           8       1.00      0.97      0.99        38\n",
            "           9       1.00      1.00      1.00        50\n",
            "\n",
            "    accuracy                           0.99       360\n",
            "   macro avg       0.99      0.99      0.99       360\n",
            "weighted avg       0.99      0.99      0.99       360\n",
            "\n"
          ]
        }
      ]
    },
    {
      "cell_type": "code",
      "source": [
        "# 평가지표 : f1-score의 macro avg\n",
        "model_validation_digits['SVM'] = 0.99"
      ],
      "metadata": {
        "id": "ZgdOfpV73UhO"
      },
      "execution_count": 177,
      "outputs": []
    },
    {
      "cell_type": "markdown",
      "source": [
        "4) SGD Classifier"
      ],
      "metadata": {
        "id": "B3C2nCAVUvqj"
      }
    },
    {
      "cell_type": "code",
      "source": [
        "sgd_model = SGDClassifier()\n",
        "sgd_model.fit(X_train, y_train)\n",
        "y_pred_sgd = sgd_model.predict(X_test)"
      ],
      "metadata": {
        "id": "BceC-rF8UxoT"
      },
      "execution_count": 16,
      "outputs": []
    },
    {
      "cell_type": "code",
      "source": [
        "print(classification_report(y_test, y_pred_sgd))"
      ],
      "metadata": {
        "colab": {
          "base_uri": "https://localhost:8080/"
        },
        "id": "VKelwS6VaCNF",
        "outputId": "c684d4e3-5b84-4a94-da96-6acbc7dc5001"
      },
      "execution_count": 17,
      "outputs": [
        {
          "output_type": "stream",
          "name": "stdout",
          "text": [
            "              precision    recall  f1-score   support\n",
            "\n",
            "           0       1.00      1.00      1.00        32\n",
            "           1       0.85      1.00      0.92        28\n",
            "           2       1.00      0.97      0.98        29\n",
            "           3       1.00      0.95      0.97        37\n",
            "           4       0.97      0.97      0.97        31\n",
            "           5       1.00      1.00      1.00        35\n",
            "           6       1.00      1.00      1.00        37\n",
            "           7       1.00      0.88      0.94        43\n",
            "           8       0.86      0.95      0.90        38\n",
            "           9       0.96      0.94      0.95        50\n",
            "\n",
            "    accuracy                           0.96       360\n",
            "   macro avg       0.96      0.97      0.96       360\n",
            "weighted avg       0.96      0.96      0.96       360\n",
            "\n"
          ]
        }
      ]
    },
    {
      "cell_type": "code",
      "source": [
        "# 평가지표 : f1-score의 macro avg\n",
        "model_validation_digits['SGD Classifier'] = 0.96"
      ],
      "metadata": {
        "id": "BtoSC-Sc3ayj"
      },
      "execution_count": 178,
      "outputs": []
    },
    {
      "cell_type": "markdown",
      "source": [
        "5) Logistic Regression"
      ],
      "metadata": {
        "id": "HPlN8pgUUx9t"
      }
    },
    {
      "cell_type": "code",
      "source": [
        "logistic_regression_model = LogisticRegression(max_iter=5000)\n",
        "logistic_regression_model.fit(X_train, y_train)\n",
        "y_pred_logistic = logistic_regression_model.predict(X_test)"
      ],
      "metadata": {
        "id": "ykUT1sIQU0Av"
      },
      "execution_count": 18,
      "outputs": []
    },
    {
      "cell_type": "code",
      "source": [
        "print(classification_report(y_test, y_pred_logistic))"
      ],
      "metadata": {
        "colab": {
          "base_uri": "https://localhost:8080/"
        },
        "id": "o0AynDDgaB4P",
        "outputId": "009a2507-16e4-4f07-866f-614b104e5fb6"
      },
      "execution_count": 19,
      "outputs": [
        {
          "output_type": "stream",
          "name": "stdout",
          "text": [
            "              precision    recall  f1-score   support\n",
            "\n",
            "           0       1.00      1.00      1.00        32\n",
            "           1       0.97      1.00      0.98        28\n",
            "           2       0.94      1.00      0.97        29\n",
            "           3       0.92      0.97      0.95        37\n",
            "           4       0.94      1.00      0.97        31\n",
            "           5       0.95      1.00      0.97        35\n",
            "           6       1.00      1.00      1.00        37\n",
            "           7       1.00      0.91      0.95        43\n",
            "           8       0.97      0.95      0.96        38\n",
            "           9       0.98      0.90      0.94        50\n",
            "\n",
            "    accuracy                           0.97       360\n",
            "   macro avg       0.97      0.97      0.97       360\n",
            "weighted avg       0.97      0.97      0.97       360\n",
            "\n"
          ]
        }
      ]
    },
    {
      "cell_type": "code",
      "source": [
        "# 평가지표 : f1-score의 macro avg\n",
        "model_validation_digits['Logistic Regression'] = 0.97"
      ],
      "metadata": {
        "id": "lOXx1Wxi3e0D"
      },
      "execution_count": 179,
      "outputs": []
    },
    {
      "cell_type": "markdown",
      "source": [
        "###6. 모델 평가"
      ],
      "metadata": {
        "id": "cthhCJotVlB6"
      }
    },
    {
      "cell_type": "markdown",
      "source": [
        "1) 목표\n",
        "\n",
        "- 손으로 쓴 숫자를 0~9로 분류하고자 함\n",
        "\n",
        "2) 평가지표\n",
        "\n",
        "- 선정 : 10가지 숫자를 다른 데이터로 예측하는 것을 최소화 (f1 score의 macro avg)\n",
        "- 이유\n",
        "    * 태블릿pc의 손글씨 인식 기능에서 고객이 불편하게 느끼는 부분을 최소화하고자 함\n",
        "    * 자신의 손글씨를 다른 분류로 인식하는 것이므로, 실제 분류에 맞게 더 많이 분류하는 것(recall)과 분류한 결과가 정확한 것(prediction) 모두 중요함\n",
        "    * 특정 클래스만 중요하기 보다, 모든 종류의 클래스가 동일한 중요도로 맞게 분류되어야 함(macro avg)\n",
        "\n",
        "3) 성능 평가"
      ],
      "metadata": {
        "id": "qQq8xBkozwcn"
      }
    },
    {
      "cell_type": "code",
      "source": [
        "df_digits = pd.DataFrame(data=model_validation_digits.values(), index=model_validation_digits.keys(), columns=['f1 avg'])\n",
        "display(df_digits.sort_values(by='f1 avg', ascending=False))\n",
        "print(\"Table 1. Macro average of f1-score for all classes\")"
      ],
      "metadata": {
        "id": "GTRE5rtZcCpN",
        "colab": {
          "base_uri": "https://localhost:8080/",
          "height": 225
        },
        "outputId": "249e326e-e2ad-4020-8c9d-48ebf6b06dba"
      },
      "execution_count": 184,
      "outputs": [
        {
          "output_type": "display_data",
          "data": {
            "text/plain": [
              "                     f1 avg\n",
              "Random forest          0.99\n",
              "SVM                    0.99\n",
              "Logistic Regression    0.97\n",
              "SGD Classifier         0.96\n",
              "Decision tree          0.84"
            ],
            "text/html": [
              "\n",
              "  <div id=\"df-8f24d1a4-28d8-4f18-af37-3a786b128cd4\">\n",
              "    <div class=\"colab-df-container\">\n",
              "      <div>\n",
              "<style scoped>\n",
              "    .dataframe tbody tr th:only-of-type {\n",
              "        vertical-align: middle;\n",
              "    }\n",
              "\n",
              "    .dataframe tbody tr th {\n",
              "        vertical-align: top;\n",
              "    }\n",
              "\n",
              "    .dataframe thead th {\n",
              "        text-align: right;\n",
              "    }\n",
              "</style>\n",
              "<table border=\"1\" class=\"dataframe\">\n",
              "  <thead>\n",
              "    <tr style=\"text-align: right;\">\n",
              "      <th></th>\n",
              "      <th>f1 avg</th>\n",
              "    </tr>\n",
              "  </thead>\n",
              "  <tbody>\n",
              "    <tr>\n",
              "      <th>Random forest</th>\n",
              "      <td>0.99</td>\n",
              "    </tr>\n",
              "    <tr>\n",
              "      <th>SVM</th>\n",
              "      <td>0.99</td>\n",
              "    </tr>\n",
              "    <tr>\n",
              "      <th>Logistic Regression</th>\n",
              "      <td>0.97</td>\n",
              "    </tr>\n",
              "    <tr>\n",
              "      <th>SGD Classifier</th>\n",
              "      <td>0.96</td>\n",
              "    </tr>\n",
              "    <tr>\n",
              "      <th>Decision tree</th>\n",
              "      <td>0.84</td>\n",
              "    </tr>\n",
              "  </tbody>\n",
              "</table>\n",
              "</div>\n",
              "      <button class=\"colab-df-convert\" onclick=\"convertToInteractive('df-8f24d1a4-28d8-4f18-af37-3a786b128cd4')\"\n",
              "              title=\"Convert this dataframe to an interactive table.\"\n",
              "              style=\"display:none;\">\n",
              "        \n",
              "  <svg xmlns=\"http://www.w3.org/2000/svg\" height=\"24px\"viewBox=\"0 0 24 24\"\n",
              "       width=\"24px\">\n",
              "    <path d=\"M0 0h24v24H0V0z\" fill=\"none\"/>\n",
              "    <path d=\"M18.56 5.44l.94 2.06.94-2.06 2.06-.94-2.06-.94-.94-2.06-.94 2.06-2.06.94zm-11 1L8.5 8.5l.94-2.06 2.06-.94-2.06-.94L8.5 2.5l-.94 2.06-2.06.94zm10 10l.94 2.06.94-2.06 2.06-.94-2.06-.94-.94-2.06-.94 2.06-2.06.94z\"/><path d=\"M17.41 7.96l-1.37-1.37c-.4-.4-.92-.59-1.43-.59-.52 0-1.04.2-1.43.59L10.3 9.45l-7.72 7.72c-.78.78-.78 2.05 0 2.83L4 21.41c.39.39.9.59 1.41.59.51 0 1.02-.2 1.41-.59l7.78-7.78 2.81-2.81c.8-.78.8-2.07 0-2.86zM5.41 20L4 18.59l7.72-7.72 1.47 1.35L5.41 20z\"/>\n",
              "  </svg>\n",
              "      </button>\n",
              "      \n",
              "  <style>\n",
              "    .colab-df-container {\n",
              "      display:flex;\n",
              "      flex-wrap:wrap;\n",
              "      gap: 12px;\n",
              "    }\n",
              "\n",
              "    .colab-df-convert {\n",
              "      background-color: #E8F0FE;\n",
              "      border: none;\n",
              "      border-radius: 50%;\n",
              "      cursor: pointer;\n",
              "      display: none;\n",
              "      fill: #1967D2;\n",
              "      height: 32px;\n",
              "      padding: 0 0 0 0;\n",
              "      width: 32px;\n",
              "    }\n",
              "\n",
              "    .colab-df-convert:hover {\n",
              "      background-color: #E2EBFA;\n",
              "      box-shadow: 0px 1px 2px rgba(60, 64, 67, 0.3), 0px 1px 3px 1px rgba(60, 64, 67, 0.15);\n",
              "      fill: #174EA6;\n",
              "    }\n",
              "\n",
              "    [theme=dark] .colab-df-convert {\n",
              "      background-color: #3B4455;\n",
              "      fill: #D2E3FC;\n",
              "    }\n",
              "\n",
              "    [theme=dark] .colab-df-convert:hover {\n",
              "      background-color: #434B5C;\n",
              "      box-shadow: 0px 1px 3px 1px rgba(0, 0, 0, 0.15);\n",
              "      filter: drop-shadow(0px 1px 2px rgba(0, 0, 0, 0.3));\n",
              "      fill: #FFFFFF;\n",
              "    }\n",
              "  </style>\n",
              "\n",
              "      <script>\n",
              "        const buttonEl =\n",
              "          document.querySelector('#df-8f24d1a4-28d8-4f18-af37-3a786b128cd4 button.colab-df-convert');\n",
              "        buttonEl.style.display =\n",
              "          google.colab.kernel.accessAllowed ? 'block' : 'none';\n",
              "\n",
              "        async function convertToInteractive(key) {\n",
              "          const element = document.querySelector('#df-8f24d1a4-28d8-4f18-af37-3a786b128cd4');\n",
              "          const dataTable =\n",
              "            await google.colab.kernel.invokeFunction('convertToInteractive',\n",
              "                                                     [key], {});\n",
              "          if (!dataTable) return;\n",
              "\n",
              "          const docLinkHtml = 'Like what you see? Visit the ' +\n",
              "            '<a target=\"_blank\" href=https://colab.research.google.com/notebooks/data_table.ipynb>data table notebook</a>'\n",
              "            + ' to learn more about interactive tables.';\n",
              "          element.innerHTML = '';\n",
              "          dataTable['output_type'] = 'display_data';\n",
              "          await google.colab.output.renderOutput(dataTable, element);\n",
              "          const docLink = document.createElement('div');\n",
              "          docLink.innerHTML = docLinkHtml;\n",
              "          element.appendChild(docLink);\n",
              "        }\n",
              "      </script>\n",
              "    </div>\n",
              "  </div>\n",
              "  "
            ]
          },
          "metadata": {}
        },
        {
          "output_type": "stream",
          "name": "stdout",
          "text": [
            "Table 1. Macro average of f1-score for all classes\n"
          ]
        }
      ]
    },
    {
      "cell_type": "markdown",
      "source": [
        "- 평가지표가 가장 높은 Random Forest와 SVM이 가장 적합한 모델\n"
      ],
      "metadata": {
        "id": "sloEsDCuzz2f"
      }
    },
    {
      "cell_type": "markdown",
      "source": [
        "\n",
        "\n",
        "---\n",
        "\n"
      ],
      "metadata": {
        "id": "U93_tNshz1X5"
      }
    },
    {
      "cell_type": "markdown",
      "source": [
        "#프로젝트 (2) load_wine : 와인 분류"
      ],
      "metadata": {
        "id": "Fif3n_osRyy0"
      }
    },
    {
      "cell_type": "markdown",
      "source": [
        "###1. 필요한 모듈 import하기"
      ],
      "metadata": {
        "id": "X4LEOkIPdspM"
      }
    },
    {
      "cell_type": "code",
      "source": [
        "from sklearn.datasets import load_wine"
      ],
      "metadata": {
        "id": "nZ99IfNJd2bj"
      },
      "execution_count": 20,
      "outputs": []
    },
    {
      "cell_type": "markdown",
      "source": [
        "###2. 데이터 준비"
      ],
      "metadata": {
        "id": "yx7OL5Dhd6CH"
      }
    },
    {
      "cell_type": "code",
      "source": [
        "wine = load_wine()"
      ],
      "metadata": {
        "id": "WgY1mqTxd7pq"
      },
      "execution_count": 21,
      "outputs": []
    },
    {
      "cell_type": "markdown",
      "source": [
        "###3. 데이터 이해하기"
      ],
      "metadata": {
        "id": "C0EKaONJd-xW"
      }
    },
    {
      "cell_type": "markdown",
      "source": [
        "3.1. 데이터 확인하기"
      ],
      "metadata": {
        "id": "00dswzC1eo3J"
      }
    },
    {
      "cell_type": "code",
      "source": [
        "print(wine.keys())"
      ],
      "metadata": {
        "colab": {
          "base_uri": "https://localhost:8080/"
        },
        "id": "ANZhtDqueA6t",
        "outputId": "5c7a4a7a-c09e-4d44-9e63-2f4e1b5014d5"
      },
      "execution_count": 22,
      "outputs": [
        {
          "output_type": "stream",
          "name": "stdout",
          "text": [
            "dict_keys(['data', 'target', 'frame', 'target_names', 'DESCR', 'feature_names'])\n"
          ]
        }
      ]
    },
    {
      "cell_type": "code",
      "source": [
        "print(wine.feature_names)\n",
        "print(wine.target_names)"
      ],
      "metadata": {
        "colab": {
          "base_uri": "https://localhost:8080/"
        },
        "id": "SGVCvbwYeaug",
        "outputId": "fb0ccc96-ab8d-4cbf-8146-755ddde8396e"
      },
      "execution_count": 23,
      "outputs": [
        {
          "output_type": "stream",
          "name": "stdout",
          "text": [
            "['alcohol', 'malic_acid', 'ash', 'alcalinity_of_ash', 'magnesium', 'total_phenols', 'flavanoids', 'nonflavanoid_phenols', 'proanthocyanins', 'color_intensity', 'hue', 'od280/od315_of_diluted_wines', 'proline']\n",
            "['class_0' 'class_1' 'class_2']\n"
          ]
        }
      ]
    },
    {
      "cell_type": "code",
      "source": [
        "print(wine.DESCR)"
      ],
      "metadata": {
        "colab": {
          "base_uri": "https://localhost:8080/"
        },
        "id": "wltKL1gfe96z",
        "outputId": "22c6270e-862b-4eab-80b3-20deb14999f5"
      },
      "execution_count": 24,
      "outputs": [
        {
          "output_type": "stream",
          "name": "stdout",
          "text": [
            ".. _wine_dataset:\n",
            "\n",
            "Wine recognition dataset\n",
            "------------------------\n",
            "\n",
            "**Data Set Characteristics:**\n",
            "\n",
            "    :Number of Instances: 178 (50 in each of three classes)\n",
            "    :Number of Attributes: 13 numeric, predictive attributes and the class\n",
            "    :Attribute Information:\n",
            " \t\t- Alcohol\n",
            " \t\t- Malic acid\n",
            " \t\t- Ash\n",
            "\t\t- Alcalinity of ash  \n",
            " \t\t- Magnesium\n",
            "\t\t- Total phenols\n",
            " \t\t- Flavanoids\n",
            " \t\t- Nonflavanoid phenols\n",
            " \t\t- Proanthocyanins\n",
            "\t\t- Color intensity\n",
            " \t\t- Hue\n",
            " \t\t- OD280/OD315 of diluted wines\n",
            " \t\t- Proline\n",
            "\n",
            "    - class:\n",
            "            - class_0\n",
            "            - class_1\n",
            "            - class_2\n",
            "\t\t\n",
            "    :Summary Statistics:\n",
            "    \n",
            "    ============================= ==== ===== ======= =====\n",
            "                                   Min   Max   Mean     SD\n",
            "    ============================= ==== ===== ======= =====\n",
            "    Alcohol:                      11.0  14.8    13.0   0.8\n",
            "    Malic Acid:                   0.74  5.80    2.34  1.12\n",
            "    Ash:                          1.36  3.23    2.36  0.27\n",
            "    Alcalinity of Ash:            10.6  30.0    19.5   3.3\n",
            "    Magnesium:                    70.0 162.0    99.7  14.3\n",
            "    Total Phenols:                0.98  3.88    2.29  0.63\n",
            "    Flavanoids:                   0.34  5.08    2.03  1.00\n",
            "    Nonflavanoid Phenols:         0.13  0.66    0.36  0.12\n",
            "    Proanthocyanins:              0.41  3.58    1.59  0.57\n",
            "    Colour Intensity:              1.3  13.0     5.1   2.3\n",
            "    Hue:                          0.48  1.71    0.96  0.23\n",
            "    OD280/OD315 of diluted wines: 1.27  4.00    2.61  0.71\n",
            "    Proline:                       278  1680     746   315\n",
            "    ============================= ==== ===== ======= =====\n",
            "\n",
            "    :Missing Attribute Values: None\n",
            "    :Class Distribution: class_0 (59), class_1 (71), class_2 (48)\n",
            "    :Creator: R.A. Fisher\n",
            "    :Donor: Michael Marshall (MARSHALL%PLU@io.arc.nasa.gov)\n",
            "    :Date: July, 1988\n",
            "\n",
            "This is a copy of UCI ML Wine recognition datasets.\n",
            "https://archive.ics.uci.edu/ml/machine-learning-databases/wine/wine.data\n",
            "\n",
            "The data is the results of a chemical analysis of wines grown in the same\n",
            "region in Italy by three different cultivators. There are thirteen different\n",
            "measurements taken for different constituents found in the three types of\n",
            "wine.\n",
            "\n",
            "Original Owners: \n",
            "\n",
            "Forina, M. et al, PARVUS - \n",
            "An Extendible Package for Data Exploration, Classification and Correlation. \n",
            "Institute of Pharmaceutical and Food Analysis and Technologies,\n",
            "Via Brigata Salerno, 16147 Genoa, Italy.\n",
            "\n",
            "Citation:\n",
            "\n",
            "Lichman, M. (2013). UCI Machine Learning Repository\n",
            "[https://archive.ics.uci.edu/ml]. Irvine, CA: University of California,\n",
            "School of Information and Computer Science. \n",
            "\n",
            ".. topic:: References\n",
            "\n",
            "  (1) S. Aeberhard, D. Coomans and O. de Vel, \n",
            "  Comparison of Classifiers in High Dimensional Settings, \n",
            "  Tech. Rep. no. 92-02, (1992), Dept. of Computer Science and Dept. of  \n",
            "  Mathematics and Statistics, James Cook University of North Queensland. \n",
            "  (Also submitted to Technometrics). \n",
            "\n",
            "  The data was used with many others for comparing various \n",
            "  classifiers. The classes are separable, though only RDA \n",
            "  has achieved 100% correct classification. \n",
            "  (RDA : 100%, QDA 99.4%, LDA 98.9%, 1NN 96.1% (z-transformed data)) \n",
            "  (All results using the leave-one-out technique) \n",
            "\n",
            "  (2) S. Aeberhard, D. Coomans and O. de Vel, \n",
            "  \"THE CLASSIFICATION PERFORMANCE OF RDA\" \n",
            "  Tech. Rep. no. 92-01, (1992), Dept. of Computer Science and Dept. of \n",
            "  Mathematics and Statistics, James Cook University of North Queensland. \n",
            "  (Also submitted to Journal of Chemometrics).\n",
            "\n"
          ]
        }
      ]
    },
    {
      "cell_type": "markdown",
      "source": [
        "3.2. feature와 label 지정하기"
      ],
      "metadata": {
        "id": "bTiP2z8Ke4Fq"
      }
    },
    {
      "cell_type": "code",
      "source": [
        "wine_data = wine.data\n",
        "print(wine_data.shape)"
      ],
      "metadata": {
        "colab": {
          "base_uri": "https://localhost:8080/"
        },
        "id": "esgwTF-deHmX",
        "outputId": "fd0c885e-5ea8-4c55-aaeb-ff2b7032d2bc"
      },
      "execution_count": 25,
      "outputs": [
        {
          "output_type": "stream",
          "name": "stdout",
          "text": [
            "(178, 13)\n"
          ]
        }
      ]
    },
    {
      "cell_type": "code",
      "source": [
        "wine_label = wine.target\n",
        "print(wine_label.shape)"
      ],
      "metadata": {
        "colab": {
          "base_uri": "https://localhost:8080/"
        },
        "id": "9R_RcBIBeS7i",
        "outputId": "77dac328-6206-44ea-9e1e-38f4c67e31d6"
      },
      "execution_count": 26,
      "outputs": [
        {
          "output_type": "stream",
          "name": "stdout",
          "text": [
            "(178,)\n"
          ]
        }
      ]
    },
    {
      "cell_type": "markdown",
      "source": [
        "###4. train, test 데이터 분리"
      ],
      "metadata": {
        "id": "iVtLVDgHfIe-"
      }
    },
    {
      "cell_type": "code",
      "source": [
        "X_train_wine, X_test_wine, y_train_wine, y_test_wine = train_test_split(wine_data, wine_label, test_size=0.2, random_state=110)"
      ],
      "metadata": {
        "id": "ZpaVIluDfLBr"
      },
      "execution_count": 156,
      "outputs": []
    },
    {
      "cell_type": "markdown",
      "source": [
        "###5. 다양한 모델로 학습시켜보기"
      ],
      "metadata": {
        "id": "JaC2uYlefjUb"
      }
    },
    {
      "cell_type": "markdown",
      "source": [
        "1) Decision Tree"
      ],
      "metadata": {
        "id": "t8iyJQlaflwL"
      }
    },
    {
      "cell_type": "code",
      "source": [
        "decision_model_wine = DecisionTreeClassifier()\n",
        "decision_model_wine.fit(X_train_wine, y_train_wine)\n",
        "y_pred_decision_wine = decision_model_wine.predict(X_test_wine)"
      ],
      "metadata": {
        "id": "0o8BGEnwfilD"
      },
      "execution_count": 157,
      "outputs": []
    },
    {
      "cell_type": "code",
      "source": [
        "print(classification_report(y_test_wine, y_pred_decision_wine))"
      ],
      "metadata": {
        "colab": {
          "base_uri": "https://localhost:8080/"
        },
        "id": "-UtK5Jknfo7X",
        "outputId": "1a126859-80ea-405f-d932-f3732fbe7f85"
      },
      "execution_count": 158,
      "outputs": [
        {
          "output_type": "stream",
          "name": "stdout",
          "text": [
            "              precision    recall  f1-score   support\n",
            "\n",
            "           0       0.82      0.90      0.86        10\n",
            "           1       0.94      0.84      0.89        19\n",
            "           2       0.88      1.00      0.93         7\n",
            "\n",
            "    accuracy                           0.89        36\n",
            "   macro avg       0.88      0.91      0.89        36\n",
            "weighted avg       0.89      0.89      0.89        36\n",
            "\n"
          ]
        }
      ]
    },
    {
      "cell_type": "code",
      "source": [
        "# 평가지표 : macro avg\n",
        "model_validation_wine = {'Decision tree' : 0.88}"
      ],
      "metadata": {
        "id": "e_wcPsOIoRU8"
      },
      "execution_count": 159,
      "outputs": []
    },
    {
      "cell_type": "markdown",
      "source": [
        "2) Random Forest"
      ],
      "metadata": {
        "id": "8nGAH4WDfpTQ"
      }
    },
    {
      "cell_type": "code",
      "source": [
        "random_model_wine = RandomForestClassifier()\n",
        "random_model_wine.fit(X_train_wine, y_train_wine)\n",
        "y_pred_random_wine = random_model_wine.predict(X_test_wine)"
      ],
      "metadata": {
        "id": "jUFqIFUJfpoB"
      },
      "execution_count": 160,
      "outputs": []
    },
    {
      "cell_type": "code",
      "source": [
        "print(classification_report(y_test_wine, y_pred_random_wine))"
      ],
      "metadata": {
        "colab": {
          "base_uri": "https://localhost:8080/"
        },
        "id": "szl_PoT4fp0n",
        "outputId": "7ae6e5ae-7277-4d41-9dc3-234584c06a2d"
      },
      "execution_count": 161,
      "outputs": [
        {
          "output_type": "stream",
          "name": "stdout",
          "text": [
            "              precision    recall  f1-score   support\n",
            "\n",
            "           0       0.91      1.00      0.95        10\n",
            "           1       1.00      0.89      0.94        19\n",
            "           2       0.88      1.00      0.93         7\n",
            "\n",
            "    accuracy                           0.94        36\n",
            "   macro avg       0.93      0.96      0.94        36\n",
            "weighted avg       0.95      0.94      0.94        36\n",
            "\n"
          ]
        }
      ]
    },
    {
      "cell_type": "code",
      "source": [
        "# 평가지표 : macro avg\n",
        "model_validation_wine['Random Forest'] = 0.93"
      ],
      "metadata": {
        "id": "6-4nCEfHp9se"
      },
      "execution_count": 162,
      "outputs": []
    },
    {
      "cell_type": "markdown",
      "source": [
        "3) SVM"
      ],
      "metadata": {
        "id": "bECz0sYIfqPk"
      }
    },
    {
      "cell_type": "code",
      "source": [
        "svm_model_wine = svm.SVC()\n",
        "svm_model_wine.fit(X_train_wine, y_train_wine)\n",
        "y_pred_svm_wine = svm_model_wine.predict(X_test_wine)"
      ],
      "metadata": {
        "id": "5dRDy3hdfq3Q"
      },
      "execution_count": 163,
      "outputs": []
    },
    {
      "cell_type": "code",
      "source": [
        "print(classification_report(y_test_wine, y_pred_svm_wine))"
      ],
      "metadata": {
        "colab": {
          "base_uri": "https://localhost:8080/"
        },
        "id": "n6Z8Gy9NfrDN",
        "outputId": "ba593773-56f8-4ca9-b456-6cb75e30d3d8"
      },
      "execution_count": 164,
      "outputs": [
        {
          "output_type": "stream",
          "name": "stdout",
          "text": [
            "              precision    recall  f1-score   support\n",
            "\n",
            "           0       0.70      0.70      0.70        10\n",
            "           1       0.83      0.79      0.81        19\n",
            "           2       0.38      0.43      0.40         7\n",
            "\n",
            "    accuracy                           0.69        36\n",
            "   macro avg       0.64      0.64      0.64        36\n",
            "weighted avg       0.71      0.69      0.70        36\n",
            "\n"
          ]
        }
      ]
    },
    {
      "cell_type": "code",
      "source": [
        "# 평가지표 : macro avg\n",
        "model_validation_wine['SVM'] = 0.64"
      ],
      "metadata": {
        "id": "LeBh4T8NqGgr"
      },
      "execution_count": 165,
      "outputs": []
    },
    {
      "cell_type": "markdown",
      "source": [
        "4) SGD Classification"
      ],
      "metadata": {
        "id": "fCcHHwqufrYO"
      }
    },
    {
      "cell_type": "code",
      "source": [
        "sgd_model_wine = SGDClassifier()\n",
        "sgd_model_wine.fit(X_train_wine, y_train_wine)\n",
        "y_pred_sgd_wine = sgd_model_wine.predict(X_test_wine)"
      ],
      "metadata": {
        "id": "SkfGT4tpfrvp"
      },
      "execution_count": 166,
      "outputs": []
    },
    {
      "cell_type": "code",
      "source": [
        "print(classification_report(y_test_wine, y_pred_sgd_wine))"
      ],
      "metadata": {
        "colab": {
          "base_uri": "https://localhost:8080/"
        },
        "id": "7yqP-J28fr6w",
        "outputId": "fa4bdcf2-2ffb-4273-cff2-7f7775a03640"
      },
      "execution_count": 167,
      "outputs": [
        {
          "output_type": "stream",
          "name": "stdout",
          "text": [
            "              precision    recall  f1-score   support\n",
            "\n",
            "           0       0.70      0.70      0.70        10\n",
            "           1       0.69      0.95      0.80        19\n",
            "           2       0.00      0.00      0.00         7\n",
            "\n",
            "    accuracy                           0.69        36\n",
            "   macro avg       0.46      0.55      0.50        36\n",
            "weighted avg       0.56      0.69      0.62        36\n",
            "\n"
          ]
        },
        {
          "output_type": "stream",
          "name": "stderr",
          "text": [
            "/usr/local/lib/python3.7/dist-packages/sklearn/metrics/_classification.py:1318: UndefinedMetricWarning: Precision and F-score are ill-defined and being set to 0.0 in labels with no predicted samples. Use `zero_division` parameter to control this behavior.\n",
            "  _warn_prf(average, modifier, msg_start, len(result))\n",
            "/usr/local/lib/python3.7/dist-packages/sklearn/metrics/_classification.py:1318: UndefinedMetricWarning: Precision and F-score are ill-defined and being set to 0.0 in labels with no predicted samples. Use `zero_division` parameter to control this behavior.\n",
            "  _warn_prf(average, modifier, msg_start, len(result))\n",
            "/usr/local/lib/python3.7/dist-packages/sklearn/metrics/_classification.py:1318: UndefinedMetricWarning: Precision and F-score are ill-defined and being set to 0.0 in labels with no predicted samples. Use `zero_division` parameter to control this behavior.\n",
            "  _warn_prf(average, modifier, msg_start, len(result))\n"
          ]
        }
      ]
    },
    {
      "cell_type": "code",
      "source": [
        "# 평가지표 : macro avg\n",
        "model_validation_wine['SGD Classifier'] = 0.46"
      ],
      "metadata": {
        "id": "Zwom3h4HqTWd"
      },
      "execution_count": 168,
      "outputs": []
    },
    {
      "cell_type": "markdown",
      "source": [
        "5) Logistic Regression"
      ],
      "metadata": {
        "id": "3ywLiNVEfsxp"
      }
    },
    {
      "cell_type": "code",
      "source": [
        "logistic_model_wine = LogisticRegression(max_iter=5000)\n",
        "logistic_model_wine.fit(X_train_wine, y_train_wine)\n",
        "y_pred_logistic_wine = logistic_model_wine.predict(X_test_wine)"
      ],
      "metadata": {
        "id": "5CKU0GGyftJU"
      },
      "execution_count": 169,
      "outputs": []
    },
    {
      "cell_type": "code",
      "source": [
        "print(classification_report(y_test_wine, y_pred_logistic_wine))"
      ],
      "metadata": {
        "colab": {
          "base_uri": "https://localhost:8080/"
        },
        "id": "nN3z22ssftUr",
        "outputId": "e6133cad-9aa3-41b6-9e4e-4e6e21aa3f78"
      },
      "execution_count": 170,
      "outputs": [
        {
          "output_type": "stream",
          "name": "stdout",
          "text": [
            "              precision    recall  f1-score   support\n",
            "\n",
            "           0       0.83      1.00      0.91        10\n",
            "           1       0.94      0.84      0.89        19\n",
            "           2       0.86      0.86      0.86         7\n",
            "\n",
            "    accuracy                           0.89        36\n",
            "   macro avg       0.88      0.90      0.89        36\n",
            "weighted avg       0.89      0.89      0.89        36\n",
            "\n"
          ]
        }
      ]
    },
    {
      "cell_type": "code",
      "source": [
        "# 평가지표 : macro avg\n",
        "model_validation_wine['Logistic Regression'] = 0.88"
      ],
      "metadata": {
        "id": "nvHxoo84qsPI"
      },
      "execution_count": 171,
      "outputs": []
    },
    {
      "cell_type": "markdown",
      "source": [
        "###6. 모델을 평가해보기"
      ],
      "metadata": {
        "id": "kjMJC5rmnFUX"
      }
    },
    {
      "cell_type": "markdown",
      "source": [
        "1) 목표\n",
        "- 와인의 종류를 3가지로 분류하고자 함\n",
        "\n",
        "2) 평가지표\n",
        "- 선정 : 3가지 종류로 각각 예측한 후 틀린 경우를 최소화 (precision의 macro avg)\n",
        "- 이유\n",
        "    * 각 종류별로 금액을 다르게 매긴다고 가정할 때, 실제 분류에 맞게 더 많이 분류하는 것(recall)보다 분류한 결과가 정확한 것(prediction)이 더 중요함\n",
        "    * 특정 클래스만 중요하기 보다, 세 종류의 클래스가 동일한 중요도로 맞게 분류되어야 함(macro avg)\n",
        "\n",
        "3) 성능 평가"
      ],
      "metadata": {
        "id": "76Sl4q-1mwO9"
      }
    },
    {
      "cell_type": "code",
      "source": [
        "df_wine = pd.DataFrame(data=model_validation_wine.values(), index=model_validation_wine.keys(), columns=['precision avg'])\n",
        "display(df_wine.sort_values(by='precision avg', ascending=False))\n",
        "print(\"Table 2. Macro average of precision for all classes\")"
      ],
      "metadata": {
        "colab": {
          "base_uri": "https://localhost:8080/",
          "height": 225
        },
        "id": "avOiRxNOqzxh",
        "outputId": "d5244ae6-7b87-439b-bcbf-863fd6d4fa98"
      },
      "execution_count": 182,
      "outputs": [
        {
          "output_type": "display_data",
          "data": {
            "text/plain": [
              "                     precision avg\n",
              "Random Forest                 0.93\n",
              "Decision tree                 0.88\n",
              "Logistic Regression           0.88\n",
              "SVM                           0.64\n",
              "SGD Classifier                0.46"
            ],
            "text/html": [
              "\n",
              "  <div id=\"df-f003da4b-e579-4d4a-9e74-132eedd829e0\">\n",
              "    <div class=\"colab-df-container\">\n",
              "      <div>\n",
              "<style scoped>\n",
              "    .dataframe tbody tr th:only-of-type {\n",
              "        vertical-align: middle;\n",
              "    }\n",
              "\n",
              "    .dataframe tbody tr th {\n",
              "        vertical-align: top;\n",
              "    }\n",
              "\n",
              "    .dataframe thead th {\n",
              "        text-align: right;\n",
              "    }\n",
              "</style>\n",
              "<table border=\"1\" class=\"dataframe\">\n",
              "  <thead>\n",
              "    <tr style=\"text-align: right;\">\n",
              "      <th></th>\n",
              "      <th>precision avg</th>\n",
              "    </tr>\n",
              "  </thead>\n",
              "  <tbody>\n",
              "    <tr>\n",
              "      <th>Random Forest</th>\n",
              "      <td>0.93</td>\n",
              "    </tr>\n",
              "    <tr>\n",
              "      <th>Decision tree</th>\n",
              "      <td>0.88</td>\n",
              "    </tr>\n",
              "    <tr>\n",
              "      <th>Logistic Regression</th>\n",
              "      <td>0.88</td>\n",
              "    </tr>\n",
              "    <tr>\n",
              "      <th>SVM</th>\n",
              "      <td>0.64</td>\n",
              "    </tr>\n",
              "    <tr>\n",
              "      <th>SGD Classifier</th>\n",
              "      <td>0.46</td>\n",
              "    </tr>\n",
              "  </tbody>\n",
              "</table>\n",
              "</div>\n",
              "      <button class=\"colab-df-convert\" onclick=\"convertToInteractive('df-f003da4b-e579-4d4a-9e74-132eedd829e0')\"\n",
              "              title=\"Convert this dataframe to an interactive table.\"\n",
              "              style=\"display:none;\">\n",
              "        \n",
              "  <svg xmlns=\"http://www.w3.org/2000/svg\" height=\"24px\"viewBox=\"0 0 24 24\"\n",
              "       width=\"24px\">\n",
              "    <path d=\"M0 0h24v24H0V0z\" fill=\"none\"/>\n",
              "    <path d=\"M18.56 5.44l.94 2.06.94-2.06 2.06-.94-2.06-.94-.94-2.06-.94 2.06-2.06.94zm-11 1L8.5 8.5l.94-2.06 2.06-.94-2.06-.94L8.5 2.5l-.94 2.06-2.06.94zm10 10l.94 2.06.94-2.06 2.06-.94-2.06-.94-.94-2.06-.94 2.06-2.06.94z\"/><path d=\"M17.41 7.96l-1.37-1.37c-.4-.4-.92-.59-1.43-.59-.52 0-1.04.2-1.43.59L10.3 9.45l-7.72 7.72c-.78.78-.78 2.05 0 2.83L4 21.41c.39.39.9.59 1.41.59.51 0 1.02-.2 1.41-.59l7.78-7.78 2.81-2.81c.8-.78.8-2.07 0-2.86zM5.41 20L4 18.59l7.72-7.72 1.47 1.35L5.41 20z\"/>\n",
              "  </svg>\n",
              "      </button>\n",
              "      \n",
              "  <style>\n",
              "    .colab-df-container {\n",
              "      display:flex;\n",
              "      flex-wrap:wrap;\n",
              "      gap: 12px;\n",
              "    }\n",
              "\n",
              "    .colab-df-convert {\n",
              "      background-color: #E8F0FE;\n",
              "      border: none;\n",
              "      border-radius: 50%;\n",
              "      cursor: pointer;\n",
              "      display: none;\n",
              "      fill: #1967D2;\n",
              "      height: 32px;\n",
              "      padding: 0 0 0 0;\n",
              "      width: 32px;\n",
              "    }\n",
              "\n",
              "    .colab-df-convert:hover {\n",
              "      background-color: #E2EBFA;\n",
              "      box-shadow: 0px 1px 2px rgba(60, 64, 67, 0.3), 0px 1px 3px 1px rgba(60, 64, 67, 0.15);\n",
              "      fill: #174EA6;\n",
              "    }\n",
              "\n",
              "    [theme=dark] .colab-df-convert {\n",
              "      background-color: #3B4455;\n",
              "      fill: #D2E3FC;\n",
              "    }\n",
              "\n",
              "    [theme=dark] .colab-df-convert:hover {\n",
              "      background-color: #434B5C;\n",
              "      box-shadow: 0px 1px 3px 1px rgba(0, 0, 0, 0.15);\n",
              "      filter: drop-shadow(0px 1px 2px rgba(0, 0, 0, 0.3));\n",
              "      fill: #FFFFFF;\n",
              "    }\n",
              "  </style>\n",
              "\n",
              "      <script>\n",
              "        const buttonEl =\n",
              "          document.querySelector('#df-f003da4b-e579-4d4a-9e74-132eedd829e0 button.colab-df-convert');\n",
              "        buttonEl.style.display =\n",
              "          google.colab.kernel.accessAllowed ? 'block' : 'none';\n",
              "\n",
              "        async function convertToInteractive(key) {\n",
              "          const element = document.querySelector('#df-f003da4b-e579-4d4a-9e74-132eedd829e0');\n",
              "          const dataTable =\n",
              "            await google.colab.kernel.invokeFunction('convertToInteractive',\n",
              "                                                     [key], {});\n",
              "          if (!dataTable) return;\n",
              "\n",
              "          const docLinkHtml = 'Like what you see? Visit the ' +\n",
              "            '<a target=\"_blank\" href=https://colab.research.google.com/notebooks/data_table.ipynb>data table notebook</a>'\n",
              "            + ' to learn more about interactive tables.';\n",
              "          element.innerHTML = '';\n",
              "          dataTable['output_type'] = 'display_data';\n",
              "          await google.colab.output.renderOutput(dataTable, element);\n",
              "          const docLink = document.createElement('div');\n",
              "          docLink.innerHTML = docLinkHtml;\n",
              "          element.appendChild(docLink);\n",
              "        }\n",
              "      </script>\n",
              "    </div>\n",
              "  </div>\n",
              "  "
            ]
          },
          "metadata": {}
        },
        {
          "output_type": "stream",
          "name": "stdout",
          "text": [
            "Table 2. Macro average of precision for all classes\n"
          ]
        }
      ]
    },
    {
      "cell_type": "markdown",
      "source": [
        "- 평가지표가 가장 높은 Random Forest가 가장 적합한 모델\n",
        "\n",
        "4) 토의\n",
        "- SGD Classifier의 zero_division\n",
        "    * train_test_split의 random_state에 따라 변화함을 확인함\n",
        "    * random_state=50일 때 SVM도 zero_division 발생함"
      ],
      "metadata": {
        "id": "zdRVfFswnC-x"
      }
    },
    {
      "cell_type": "markdown",
      "source": [
        "\n",
        "\n",
        "---\n",
        "\n"
      ],
      "metadata": {
        "id": "kFE_hHICmQhK"
      }
    },
    {
      "cell_type": "markdown",
      "source": [
        "#프로젝트 (3) load_breast_cancer : 유방암 여부"
      ],
      "metadata": {
        "id": "u-SLxpIpL9Bl"
      }
    },
    {
      "cell_type": "markdown",
      "source": [
        "###1. 필요한 모듈 import하기"
      ],
      "metadata": {
        "id": "RXmM8qm1iqnR"
      }
    },
    {
      "cell_type": "code",
      "source": [
        "from sklearn.datasets import load_breast_cancer"
      ],
      "metadata": {
        "id": "_mi5or5bMC9G"
      },
      "execution_count": 38,
      "outputs": []
    },
    {
      "cell_type": "markdown",
      "source": [
        "###2. 데이터 준비하기"
      ],
      "metadata": {
        "id": "24wEccF3jCPU"
      }
    },
    {
      "cell_type": "code",
      "source": [
        "cancer = load_breast_cancer()"
      ],
      "metadata": {
        "id": "E9bGWsGdjEek"
      },
      "execution_count": 39,
      "outputs": []
    },
    {
      "cell_type": "markdown",
      "source": [
        "###3. 데이터 이해하기"
      ],
      "metadata": {
        "id": "GVq7_r4ajLlQ"
      }
    },
    {
      "cell_type": "markdown",
      "source": [
        "3.1. 데이터 확인하기"
      ],
      "metadata": {
        "id": "hqSUW6rijQIi"
      }
    },
    {
      "cell_type": "code",
      "source": [
        "print(cancer.keys())"
      ],
      "metadata": {
        "colab": {
          "base_uri": "https://localhost:8080/"
        },
        "id": "cdj0dg4wjL35",
        "outputId": "ce7e8997-e669-416b-9a73-672b04718c20"
      },
      "execution_count": 40,
      "outputs": [
        {
          "output_type": "stream",
          "name": "stdout",
          "text": [
            "dict_keys(['data', 'target', 'frame', 'target_names', 'DESCR', 'feature_names', 'filename', 'data_module'])\n"
          ]
        }
      ]
    },
    {
      "cell_type": "code",
      "source": [
        "print(len(cancer.feature_names))\n",
        "print(cancer.feature_names)\n",
        "print(cancer.target_names)"
      ],
      "metadata": {
        "colab": {
          "base_uri": "https://localhost:8080/"
        },
        "id": "4pt-QVknj0-g",
        "outputId": "846d33a6-7406-49f0-9ef6-8ce7b7931f55"
      },
      "execution_count": 41,
      "outputs": [
        {
          "output_type": "stream",
          "name": "stdout",
          "text": [
            "30\n",
            "['mean radius' 'mean texture' 'mean perimeter' 'mean area'\n",
            " 'mean smoothness' 'mean compactness' 'mean concavity'\n",
            " 'mean concave points' 'mean symmetry' 'mean fractal dimension'\n",
            " 'radius error' 'texture error' 'perimeter error' 'area error'\n",
            " 'smoothness error' 'compactness error' 'concavity error'\n",
            " 'concave points error' 'symmetry error' 'fractal dimension error'\n",
            " 'worst radius' 'worst texture' 'worst perimeter' 'worst area'\n",
            " 'worst smoothness' 'worst compactness' 'worst concavity'\n",
            " 'worst concave points' 'worst symmetry' 'worst fractal dimension']\n",
            "['malignant' 'benign']\n"
          ]
        }
      ]
    },
    {
      "cell_type": "code",
      "source": [
        "print(cancer.DESCR)"
      ],
      "metadata": {
        "colab": {
          "base_uri": "https://localhost:8080/"
        },
        "id": "xkhHVMC3kR8_",
        "outputId": "97788135-8913-4abd-e109-4ba9bc6425ec"
      },
      "execution_count": 42,
      "outputs": [
        {
          "output_type": "stream",
          "name": "stdout",
          "text": [
            ".. _breast_cancer_dataset:\n",
            "\n",
            "Breast cancer wisconsin (diagnostic) dataset\n",
            "--------------------------------------------\n",
            "\n",
            "**Data Set Characteristics:**\n",
            "\n",
            "    :Number of Instances: 569\n",
            "\n",
            "    :Number of Attributes: 30 numeric, predictive attributes and the class\n",
            "\n",
            "    :Attribute Information:\n",
            "        - radius (mean of distances from center to points on the perimeter)\n",
            "        - texture (standard deviation of gray-scale values)\n",
            "        - perimeter\n",
            "        - area\n",
            "        - smoothness (local variation in radius lengths)\n",
            "        - compactness (perimeter^2 / area - 1.0)\n",
            "        - concavity (severity of concave portions of the contour)\n",
            "        - concave points (number of concave portions of the contour)\n",
            "        - symmetry\n",
            "        - fractal dimension (\"coastline approximation\" - 1)\n",
            "\n",
            "        The mean, standard error, and \"worst\" or largest (mean of the three\n",
            "        worst/largest values) of these features were computed for each image,\n",
            "        resulting in 30 features.  For instance, field 0 is Mean Radius, field\n",
            "        10 is Radius SE, field 20 is Worst Radius.\n",
            "\n",
            "        - class:\n",
            "                - WDBC-Malignant\n",
            "                - WDBC-Benign\n",
            "\n",
            "    :Summary Statistics:\n",
            "\n",
            "    ===================================== ====== ======\n",
            "                                           Min    Max\n",
            "    ===================================== ====== ======\n",
            "    radius (mean):                        6.981  28.11\n",
            "    texture (mean):                       9.71   39.28\n",
            "    perimeter (mean):                     43.79  188.5\n",
            "    area (mean):                          143.5  2501.0\n",
            "    smoothness (mean):                    0.053  0.163\n",
            "    compactness (mean):                   0.019  0.345\n",
            "    concavity (mean):                     0.0    0.427\n",
            "    concave points (mean):                0.0    0.201\n",
            "    symmetry (mean):                      0.106  0.304\n",
            "    fractal dimension (mean):             0.05   0.097\n",
            "    radius (standard error):              0.112  2.873\n",
            "    texture (standard error):             0.36   4.885\n",
            "    perimeter (standard error):           0.757  21.98\n",
            "    area (standard error):                6.802  542.2\n",
            "    smoothness (standard error):          0.002  0.031\n",
            "    compactness (standard error):         0.002  0.135\n",
            "    concavity (standard error):           0.0    0.396\n",
            "    concave points (standard error):      0.0    0.053\n",
            "    symmetry (standard error):            0.008  0.079\n",
            "    fractal dimension (standard error):   0.001  0.03\n",
            "    radius (worst):                       7.93   36.04\n",
            "    texture (worst):                      12.02  49.54\n",
            "    perimeter (worst):                    50.41  251.2\n",
            "    area (worst):                         185.2  4254.0\n",
            "    smoothness (worst):                   0.071  0.223\n",
            "    compactness (worst):                  0.027  1.058\n",
            "    concavity (worst):                    0.0    1.252\n",
            "    concave points (worst):               0.0    0.291\n",
            "    symmetry (worst):                     0.156  0.664\n",
            "    fractal dimension (worst):            0.055  0.208\n",
            "    ===================================== ====== ======\n",
            "\n",
            "    :Missing Attribute Values: None\n",
            "\n",
            "    :Class Distribution: 212 - Malignant, 357 - Benign\n",
            "\n",
            "    :Creator:  Dr. William H. Wolberg, W. Nick Street, Olvi L. Mangasarian\n",
            "\n",
            "    :Donor: Nick Street\n",
            "\n",
            "    :Date: November, 1995\n",
            "\n",
            "This is a copy of UCI ML Breast Cancer Wisconsin (Diagnostic) datasets.\n",
            "https://goo.gl/U2Uwz2\n",
            "\n",
            "Features are computed from a digitized image of a fine needle\n",
            "aspirate (FNA) of a breast mass.  They describe\n",
            "characteristics of the cell nuclei present in the image.\n",
            "\n",
            "Separating plane described above was obtained using\n",
            "Multisurface Method-Tree (MSM-T) [K. P. Bennett, \"Decision Tree\n",
            "Construction Via Linear Programming.\" Proceedings of the 4th\n",
            "Midwest Artificial Intelligence and Cognitive Science Society,\n",
            "pp. 97-101, 1992], a classification method which uses linear\n",
            "programming to construct a decision tree.  Relevant features\n",
            "were selected using an exhaustive search in the space of 1-4\n",
            "features and 1-3 separating planes.\n",
            "\n",
            "The actual linear program used to obtain the separating plane\n",
            "in the 3-dimensional space is that described in:\n",
            "[K. P. Bennett and O. L. Mangasarian: \"Robust Linear\n",
            "Programming Discrimination of Two Linearly Inseparable Sets\",\n",
            "Optimization Methods and Software 1, 1992, 23-34].\n",
            "\n",
            "This database is also available through the UW CS ftp server:\n",
            "\n",
            "ftp ftp.cs.wisc.edu\n",
            "cd math-prog/cpo-dataset/machine-learn/WDBC/\n",
            "\n",
            ".. topic:: References\n",
            "\n",
            "   - W.N. Street, W.H. Wolberg and O.L. Mangasarian. Nuclear feature extraction \n",
            "     for breast tumor diagnosis. IS&T/SPIE 1993 International Symposium on \n",
            "     Electronic Imaging: Science and Technology, volume 1905, pages 861-870,\n",
            "     San Jose, CA, 1993.\n",
            "   - O.L. Mangasarian, W.N. Street and W.H. Wolberg. Breast cancer diagnosis and \n",
            "     prognosis via linear programming. Operations Research, 43(4), pages 570-577, \n",
            "     July-August 1995.\n",
            "   - W.H. Wolberg, W.N. Street, and O.L. Mangasarian. Machine learning techniques\n",
            "     to diagnose breast cancer from fine-needle aspirates. Cancer Letters 77 (1994) \n",
            "     163-171.\n"
          ]
        }
      ]
    },
    {
      "cell_type": "markdown",
      "source": [
        "3.2. feature와 label 설정하기"
      ],
      "metadata": {
        "id": "vEPJ76OfkVB1"
      }
    },
    {
      "cell_type": "code",
      "source": [
        "cancer_data = cancer.data\n",
        "print(cancer_data.shape)"
      ],
      "metadata": {
        "colab": {
          "base_uri": "https://localhost:8080/"
        },
        "id": "O1Ws9bJ9jgu4",
        "outputId": "c8cc7eda-4e62-4714-dc24-656df9bca2c5"
      },
      "execution_count": 43,
      "outputs": [
        {
          "output_type": "stream",
          "name": "stdout",
          "text": [
            "(569, 30)\n"
          ]
        }
      ]
    },
    {
      "cell_type": "code",
      "source": [
        "cancer_label = cancer.target\n",
        "print(cancer_label.shape)"
      ],
      "metadata": {
        "colab": {
          "base_uri": "https://localhost:8080/"
        },
        "id": "0C7HkzIpjzyg",
        "outputId": "bb2c0f1d-d09e-4641-c7e6-4587395944a7"
      },
      "execution_count": 44,
      "outputs": [
        {
          "output_type": "stream",
          "name": "stdout",
          "text": [
            "(569,)\n"
          ]
        }
      ]
    },
    {
      "cell_type": "markdown",
      "source": [
        "###4. train, test 데이터 분리"
      ],
      "metadata": {
        "id": "lrxxd7xMkbnU"
      }
    },
    {
      "cell_type": "code",
      "source": [
        "X_train_cancer, X_test_cancer, y_train_cancer, y_test_cancer = train_test_split(cancer_data, cancer_label, test_size=0.2, random_state=49)"
      ],
      "metadata": {
        "id": "2vXV-iiMkcpC"
      },
      "execution_count": 45,
      "outputs": []
    },
    {
      "cell_type": "markdown",
      "source": [
        "###5. 다양한 모델로 학습시켜보기"
      ],
      "metadata": {
        "id": "ZCR5L_eclN69"
      }
    },
    {
      "cell_type": "markdown",
      "source": [
        "1) Decision Tree"
      ],
      "metadata": {
        "id": "6ugY_cQMlTJV"
      }
    },
    {
      "cell_type": "code",
      "source": [
        "decision_model_cancer = DecisionTreeClassifier()\n",
        "decision_model_cancer.fit(X_train_cancer, y_train_cancer)\n",
        "y_pred_decision_cancer = decision_model_cancer.predict(X_test_cancer)"
      ],
      "metadata": {
        "id": "ydRiJ21elUiC"
      },
      "execution_count": 46,
      "outputs": []
    },
    {
      "cell_type": "code",
      "source": [
        "print(classification_report(y_test_cancer, y_pred_decision_cancer))"
      ],
      "metadata": {
        "colab": {
          "base_uri": "https://localhost:8080/"
        },
        "id": "KEuG3ieQlVCI",
        "outputId": "762dd7a9-47ec-478c-9bda-2e7c51676bf2"
      },
      "execution_count": 47,
      "outputs": [
        {
          "output_type": "stream",
          "name": "stdout",
          "text": [
            "              precision    recall  f1-score   support\n",
            "\n",
            "           0       0.95      0.90      0.92        41\n",
            "           1       0.95      0.97      0.96        73\n",
            "\n",
            "    accuracy                           0.95       114\n",
            "   macro avg       0.95      0.94      0.94       114\n",
            "weighted avg       0.95      0.95      0.95       114\n",
            "\n"
          ]
        }
      ]
    },
    {
      "cell_type": "code",
      "source": [
        "# 평가지표\n",
        "model_validation_cancer = {'Decision tree' : 0.90}"
      ],
      "metadata": {
        "id": "4fwc7PO_7bFN"
      },
      "execution_count": 98,
      "outputs": []
    },
    {
      "cell_type": "markdown",
      "source": [
        "2) Random Forest"
      ],
      "metadata": {
        "id": "lVuHa9xdlVU7"
      }
    },
    {
      "cell_type": "code",
      "source": [
        "random_model_cancer = RandomForestClassifier()\n",
        "random_model_cancer.fit(X_train_cancer, y_train_cancer)\n",
        "y_pred_random_cancer = random_model_cancer.predict(X_test_cancer)"
      ],
      "metadata": {
        "id": "PGOyzCQslXPZ"
      },
      "execution_count": 49,
      "outputs": []
    },
    {
      "cell_type": "code",
      "source": [
        "print(classification_report(y_test_cancer, y_pred_random_cancer))"
      ],
      "metadata": {
        "colab": {
          "base_uri": "https://localhost:8080/"
        },
        "id": "VrcNqvL2lXcF",
        "outputId": "2b9b500b-5ad4-47d1-b35d-b81eb3704286"
      },
      "execution_count": 50,
      "outputs": [
        {
          "output_type": "stream",
          "name": "stdout",
          "text": [
            "              precision    recall  f1-score   support\n",
            "\n",
            "           0       0.95      0.93      0.94        41\n",
            "           1       0.96      0.97      0.97        73\n",
            "\n",
            "    accuracy                           0.96       114\n",
            "   macro avg       0.95      0.95      0.95       114\n",
            "weighted avg       0.96      0.96      0.96       114\n",
            "\n"
          ]
        }
      ]
    },
    {
      "cell_type": "code",
      "source": [
        "# 평가지표\n",
        "model_validation_cancer['Random forest'] = 0.93"
      ],
      "metadata": {
        "id": "iOzfNZVU7rRz"
      },
      "execution_count": 99,
      "outputs": []
    },
    {
      "cell_type": "markdown",
      "source": [
        "3) SVM"
      ],
      "metadata": {
        "id": "ERWh5VU9lX9b"
      }
    },
    {
      "cell_type": "code",
      "source": [
        "svm_model_cancer = svm.SVC()\n",
        "svm_model_cancer.fit(X_train_cancer, y_train_cancer)\n",
        "y_pred_svm_cancer = svm_model_cancer.predict(X_test_cancer)"
      ],
      "metadata": {
        "id": "idjYCgowlZRg"
      },
      "execution_count": 52,
      "outputs": []
    },
    {
      "cell_type": "code",
      "source": [
        "print(classification_report(y_test_cancer, y_pred_svm_cancer))"
      ],
      "metadata": {
        "colab": {
          "base_uri": "https://localhost:8080/"
        },
        "id": "0Smyj9sjlZje",
        "outputId": "49b0856c-50ac-45a0-e6d7-0db237eb3636"
      },
      "execution_count": 53,
      "outputs": [
        {
          "output_type": "stream",
          "name": "stdout",
          "text": [
            "              precision    recall  f1-score   support\n",
            "\n",
            "           0       0.97      0.76      0.85        41\n",
            "           1       0.88      0.99      0.93        73\n",
            "\n",
            "    accuracy                           0.90       114\n",
            "   macro avg       0.92      0.87      0.89       114\n",
            "weighted avg       0.91      0.90      0.90       114\n",
            "\n"
          ]
        }
      ]
    },
    {
      "cell_type": "code",
      "source": [
        "# 평가지표\n",
        "model_validation_cancer['SVM'] = 0.76"
      ],
      "metadata": {
        "id": "me9SMEg871jV"
      },
      "execution_count": 100,
      "outputs": []
    },
    {
      "cell_type": "markdown",
      "source": [
        "4) SGD Classifier"
      ],
      "metadata": {
        "id": "v-ZEEJNnlaJl"
      }
    },
    {
      "cell_type": "code",
      "source": [
        "sgd_model_cancer = SGDClassifier()\n",
        "sgd_model_cancer.fit(X_train_cancer, y_train_cancer)\n",
        "y_pred_sgd_cancer = sgd_model_cancer.predict(X_test_cancer)"
      ],
      "metadata": {
        "id": "ywK2EhdZlb43"
      },
      "execution_count": 55,
      "outputs": []
    },
    {
      "cell_type": "code",
      "source": [
        "print(classification_report(y_test_cancer, y_pred_sgd_cancer))"
      ],
      "metadata": {
        "colab": {
          "base_uri": "https://localhost:8080/"
        },
        "id": "u_1nD6nMlcLm",
        "outputId": "22bd4df7-0a88-47cd-a84d-cd81a22339ab"
      },
      "execution_count": 56,
      "outputs": [
        {
          "output_type": "stream",
          "name": "stdout",
          "text": [
            "              precision    recall  f1-score   support\n",
            "\n",
            "           0       0.97      0.71      0.82        41\n",
            "           1       0.86      0.99      0.92        73\n",
            "\n",
            "    accuracy                           0.89       114\n",
            "   macro avg       0.91      0.85      0.87       114\n",
            "weighted avg       0.90      0.89      0.88       114\n",
            "\n"
          ]
        }
      ]
    },
    {
      "cell_type": "code",
      "source": [
        "# 평가지표\n",
        "model_validation_cancer['SGD Claasifier'] = 0.76"
      ],
      "metadata": {
        "id": "bz4BEFMc78n0"
      },
      "execution_count": 101,
      "outputs": []
    },
    {
      "cell_type": "markdown",
      "source": [
        "5) Logistic Regression"
      ],
      "metadata": {
        "id": "vBogLt-vlcs2"
      }
    },
    {
      "cell_type": "code",
      "source": [
        "logistic_model_cancer = LogisticRegression(max_iter = 5000)\n",
        "logistic_model_cancer.fit(X_train_cancer, y_train_cancer)\n",
        "y_pred_logistic_cancer = logistic_model_cancer.predict(X_test_cancer)"
      ],
      "metadata": {
        "id": "Z6JOIeyTle5E"
      },
      "execution_count": 58,
      "outputs": []
    },
    {
      "cell_type": "code",
      "source": [
        "print(classification_report(y_test_cancer, y_pred_logistic_cancer))"
      ],
      "metadata": {
        "colab": {
          "base_uri": "https://localhost:8080/"
        },
        "id": "4Fqc2j5klfNU",
        "outputId": "061edb71-f6a9-4f8a-e591-f5141cb9f1ba"
      },
      "execution_count": 59,
      "outputs": [
        {
          "output_type": "stream",
          "name": "stdout",
          "text": [
            "              precision    recall  f1-score   support\n",
            "\n",
            "           0       0.89      0.98      0.93        41\n",
            "           1       0.99      0.93      0.96        73\n",
            "\n",
            "    accuracy                           0.95       114\n",
            "   macro avg       0.94      0.95      0.94       114\n",
            "weighted avg       0.95      0.95      0.95       114\n",
            "\n"
          ]
        }
      ]
    },
    {
      "cell_type": "code",
      "source": [
        "# 평가지표\n",
        "model_validation_cancer['Logistic Regression'] = 0.98"
      ],
      "metadata": {
        "id": "dtW4ClWQ8Dy0"
      },
      "execution_count": 102,
      "outputs": []
    },
    {
      "cell_type": "markdown",
      "source": [
        "###6. 모델을 평가해보기"
      ],
      "metadata": {
        "id": "miVGony9lfz6"
      }
    },
    {
      "cell_type": "markdown",
      "source": [
        "1) 목표   \n",
        "- 악성(malignant) 종양(=암), 양성(benign) 종양으로 label을 구분하여 유방암 여부를 판단하고자 함\n",
        "\n",
        "2) 평가지표\n",
        "- 후보\n",
        "    * 1번 : 암을 양성 종양으로 판단하는 경우를 최소화 (0의 recall 최대)\n",
        "    * 2번 : 양성 종양으로 예상했는데 암인 경우를 최소화 (1의 prediction 최대)\n",
        "- 선정 : 0의 recall 최대\n",
        "- 이유\n",
        "    * 암인 경우를 더 많이 판단하는 것이 중요(0의 recall)\n",
        "    * malignant(0)의 샘플 개수(41개)가 benign(1)의 샘플 개수(73개)보다 작아서, 잘못 분류된 값에 더 민감함\n",
        "\n",
        "3) 성능 평가"
      ],
      "metadata": {
        "id": "S8yFOcSyp4I_"
      }
    },
    {
      "cell_type": "code",
      "source": [
        "df_cancer = pd.DataFrame(data=list(model_validation_cancer.values()), index=model_validation_cancer.keys(), columns=['malignant(0)'])\n",
        "display(df_cancer.sort_values(by='malignant(0)', ascending=False))\n",
        "print(\"Table 3. Recall of the malignant class\")"
      ],
      "metadata": {
        "colab": {
          "base_uri": "https://localhost:8080/",
          "height": 225
        },
        "id": "Vc38EJF_dSBi",
        "outputId": "ca409324-95c3-458a-deec-fc5c323e6851"
      },
      "execution_count": 183,
      "outputs": [
        {
          "output_type": "display_data",
          "data": {
            "text/plain": [
              "                     malignant(0)\n",
              "Logistic Regression          0.98\n",
              "Random forest                0.93\n",
              "Decision tree                0.90\n",
              "SVM                          0.76\n",
              "SGD Claasifier               0.76"
            ],
            "text/html": [
              "\n",
              "  <div id=\"df-1e59e9e6-3e9e-4017-a580-b3ad6a594cd1\">\n",
              "    <div class=\"colab-df-container\">\n",
              "      <div>\n",
              "<style scoped>\n",
              "    .dataframe tbody tr th:only-of-type {\n",
              "        vertical-align: middle;\n",
              "    }\n",
              "\n",
              "    .dataframe tbody tr th {\n",
              "        vertical-align: top;\n",
              "    }\n",
              "\n",
              "    .dataframe thead th {\n",
              "        text-align: right;\n",
              "    }\n",
              "</style>\n",
              "<table border=\"1\" class=\"dataframe\">\n",
              "  <thead>\n",
              "    <tr style=\"text-align: right;\">\n",
              "      <th></th>\n",
              "      <th>malignant(0)</th>\n",
              "    </tr>\n",
              "  </thead>\n",
              "  <tbody>\n",
              "    <tr>\n",
              "      <th>Logistic Regression</th>\n",
              "      <td>0.98</td>\n",
              "    </tr>\n",
              "    <tr>\n",
              "      <th>Random forest</th>\n",
              "      <td>0.93</td>\n",
              "    </tr>\n",
              "    <tr>\n",
              "      <th>Decision tree</th>\n",
              "      <td>0.90</td>\n",
              "    </tr>\n",
              "    <tr>\n",
              "      <th>SVM</th>\n",
              "      <td>0.76</td>\n",
              "    </tr>\n",
              "    <tr>\n",
              "      <th>SGD Claasifier</th>\n",
              "      <td>0.76</td>\n",
              "    </tr>\n",
              "  </tbody>\n",
              "</table>\n",
              "</div>\n",
              "      <button class=\"colab-df-convert\" onclick=\"convertToInteractive('df-1e59e9e6-3e9e-4017-a580-b3ad6a594cd1')\"\n",
              "              title=\"Convert this dataframe to an interactive table.\"\n",
              "              style=\"display:none;\">\n",
              "        \n",
              "  <svg xmlns=\"http://www.w3.org/2000/svg\" height=\"24px\"viewBox=\"0 0 24 24\"\n",
              "       width=\"24px\">\n",
              "    <path d=\"M0 0h24v24H0V0z\" fill=\"none\"/>\n",
              "    <path d=\"M18.56 5.44l.94 2.06.94-2.06 2.06-.94-2.06-.94-.94-2.06-.94 2.06-2.06.94zm-11 1L8.5 8.5l.94-2.06 2.06-.94-2.06-.94L8.5 2.5l-.94 2.06-2.06.94zm10 10l.94 2.06.94-2.06 2.06-.94-2.06-.94-.94-2.06-.94 2.06-2.06.94z\"/><path d=\"M17.41 7.96l-1.37-1.37c-.4-.4-.92-.59-1.43-.59-.52 0-1.04.2-1.43.59L10.3 9.45l-7.72 7.72c-.78.78-.78 2.05 0 2.83L4 21.41c.39.39.9.59 1.41.59.51 0 1.02-.2 1.41-.59l7.78-7.78 2.81-2.81c.8-.78.8-2.07 0-2.86zM5.41 20L4 18.59l7.72-7.72 1.47 1.35L5.41 20z\"/>\n",
              "  </svg>\n",
              "      </button>\n",
              "      \n",
              "  <style>\n",
              "    .colab-df-container {\n",
              "      display:flex;\n",
              "      flex-wrap:wrap;\n",
              "      gap: 12px;\n",
              "    }\n",
              "\n",
              "    .colab-df-convert {\n",
              "      background-color: #E8F0FE;\n",
              "      border: none;\n",
              "      border-radius: 50%;\n",
              "      cursor: pointer;\n",
              "      display: none;\n",
              "      fill: #1967D2;\n",
              "      height: 32px;\n",
              "      padding: 0 0 0 0;\n",
              "      width: 32px;\n",
              "    }\n",
              "\n",
              "    .colab-df-convert:hover {\n",
              "      background-color: #E2EBFA;\n",
              "      box-shadow: 0px 1px 2px rgba(60, 64, 67, 0.3), 0px 1px 3px 1px rgba(60, 64, 67, 0.15);\n",
              "      fill: #174EA6;\n",
              "    }\n",
              "\n",
              "    [theme=dark] .colab-df-convert {\n",
              "      background-color: #3B4455;\n",
              "      fill: #D2E3FC;\n",
              "    }\n",
              "\n",
              "    [theme=dark] .colab-df-convert:hover {\n",
              "      background-color: #434B5C;\n",
              "      box-shadow: 0px 1px 3px 1px rgba(0, 0, 0, 0.15);\n",
              "      filter: drop-shadow(0px 1px 2px rgba(0, 0, 0, 0.3));\n",
              "      fill: #FFFFFF;\n",
              "    }\n",
              "  </style>\n",
              "\n",
              "      <script>\n",
              "        const buttonEl =\n",
              "          document.querySelector('#df-1e59e9e6-3e9e-4017-a580-b3ad6a594cd1 button.colab-df-convert');\n",
              "        buttonEl.style.display =\n",
              "          google.colab.kernel.accessAllowed ? 'block' : 'none';\n",
              "\n",
              "        async function convertToInteractive(key) {\n",
              "          const element = document.querySelector('#df-1e59e9e6-3e9e-4017-a580-b3ad6a594cd1');\n",
              "          const dataTable =\n",
              "            await google.colab.kernel.invokeFunction('convertToInteractive',\n",
              "                                                     [key], {});\n",
              "          if (!dataTable) return;\n",
              "\n",
              "          const docLinkHtml = 'Like what you see? Visit the ' +\n",
              "            '<a target=\"_blank\" href=https://colab.research.google.com/notebooks/data_table.ipynb>data table notebook</a>'\n",
              "            + ' to learn more about interactive tables.';\n",
              "          element.innerHTML = '';\n",
              "          dataTable['output_type'] = 'display_data';\n",
              "          await google.colab.output.renderOutput(dataTable, element);\n",
              "          const docLink = document.createElement('div');\n",
              "          docLink.innerHTML = docLinkHtml;\n",
              "          element.appendChild(docLink);\n",
              "        }\n",
              "      </script>\n",
              "    </div>\n",
              "  </div>\n",
              "  "
            ]
          },
          "metadata": {}
        },
        {
          "output_type": "stream",
          "name": "stdout",
          "text": [
            "Table 3. Recall of the malignant class\n"
          ]
        }
      ]
    },
    {
      "cell_type": "markdown",
      "source": [
        "- 평가지표가 가장 높은 Logistic Regression이 가장 적합한 모델\n",
        "\n",
        "4) 토의\n",
        "- 0의 recall에서 0.01 단위의 변화가 의미 있는지 확인 필요\n",
        "    * 0.05 단위의 변화가 큰 의미가 없을 경우, 평가지표는 Logistic Regression과 Random forest가 모두 만족\n",
        "    * 그럴 경우 2순위 평가지표가 필요함"
      ],
      "metadata": {
        "id": "0mJDZy39fusa"
      }
    },
    {
      "cell_type": "markdown",
      "source": [
        "\n",
        "\n",
        "---\n",
        "\n"
      ],
      "metadata": {
        "id": "VTaFoecrmqT0"
      }
    },
    {
      "cell_type": "markdown",
      "source": [
        "#회고"
      ],
      "metadata": {
        "id": "Y2OBX_k5LmFi"
      }
    },
    {
      "cell_type": "markdown",
      "source": [
        "###1. 이번 프로젝트에서 어려웠던 점\n",
        "\n",
        "- Logistic Regression에서 에러 발생   \n",
        ":818: ConvergenceWarning: lbfgs failed to converge (status=1):\n",
        "STOP: TOTAL NO. of ITERATIONS REACHED LIMIT.\n",
        "\n",
        "- max_iter = 5000 설정하여 해결\n",
        "\n"
      ],
      "metadata": {
        "id": "2sKZ99lAYlim"
      }
    },
    {
      "cell_type": "markdown",
      "source": [
        "###2. 프로젝트를 진행하면서 알아낸 점 또는 모호한 점\n",
        "1) 알아낸 점   \n",
        "- simple binary classification일 때 T의 recall과 F의 prediction\n",
        "   * Multi-Class Metrics를 정리하다가 simple binary classification을 분석했더니, simple binary classification일 때 T의 recall과 F의 prediction이 같은 것으로 착각함.   \n",
        "   * 다시 정리하면서 해당 경우에도 두 값이 다르다는 것을 정리함.\n",
        "\n",
        "2) 모호한 점   \n",
        "- train_test_split의 random_state\n",
        "    * train_test_split의 random_state에 따라 평가지표의 값들이 변화하고, zero_division 경고 발생여부가 달라짐.   \n",
        "    * 다양한 random_state에 따른 모델별 평가지표를 확인해야 할 것 같음.\n",
        "\n",
        "- classification report의 accuracy\n",
        "    * accuracy = (TP+TN) / (TP+FP+FN+TN) 이 아니라 [micro-F1](https://towardsdatascience.com/micro-macro-weighted-averages-of-f1-score-clearly-explained-b603420b292f)이라고 함.\n",
        "    * 다른 문서 확인 필요"
      ],
      "metadata": {
        "id": "5nJvv-yGt5oS"
      }
    },
    {
      "cell_type": "markdown",
      "source": [
        "###3. 루브릭 평가 지표를 맞추기 위해 시도한 것들\n",
        "- pandas DataFrame 사용"
      ],
      "metadata": {
        "id": "pBNBSMJJuuQm"
      }
    },
    {
      "cell_type": "markdown",
      "source": [
        "###4. 다짐\n",
        "결과 정리하는 방법을 더 익혀야겠다고 생각함.   \n",
        "아직까지 학습 모델은 템플릿처럼 사용하면 되는 것 같아서, 그 결과를 분석하고 정리하는 방법(dataframe, pyplot 등)이 더 필요한 것 같다."
      ],
      "metadata": {
        "id": "vaVGm3Q0vJG9"
      }
    }
  ]
}