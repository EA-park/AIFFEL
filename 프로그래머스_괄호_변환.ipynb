{
  "nbformat": 4,
  "nbformat_minor": 0,
  "metadata": {
    "colab": {
      "name": "프로그래머스 - 괄호 변환.ipynb",
      "provenance": [],
      "authorship_tag": "ABX9TyOfPtyAM6rVv6RHGw9EOLwY",
      "include_colab_link": true
    },
    "kernelspec": {
      "name": "python3",
      "display_name": "Python 3"
    },
    "language_info": {
      "name": "python"
    }
  },
  "cells": [
    {
      "cell_type": "markdown",
      "metadata": {
        "id": "view-in-github",
        "colab_type": "text"
      },
      "source": [
        "<a href=\"https://colab.research.google.com/github/EA-park/AIFFEL/blob/main/%ED%94%84%EB%A1%9C%EA%B7%B8%EB%9E%98%EB%A8%B8%EC%8A%A4_%EA%B4%84%ED%98%B8_%EB%B3%80%ED%99%98.ipynb\" target=\"_parent\"><img src=\"https://colab.research.google.com/assets/colab-badge.svg\" alt=\"Open In Colab\"/></a>"
      ]
    },
    {
      "cell_type": "code",
      "source": [
        "def solution(p):\n",
        "    count = 'def'\n",
        "    index = 0\n",
        "    answer = ''\n",
        "    while(count != 0):\n",
        "        if count == 'def':\n",
        "            count = 0\n",
        "        \n",
        "        print(index)\n",
        "        if p[index] == ')':\n",
        "            count -= 1\n",
        "            print(f\"첫번째 {count}\")\n",
        "        else:\n",
        "            count += 1\n",
        "            print(f\"두번째 {count}\")\n",
        "        index += 1\n",
        "\n",
        "    if index != len(p):\n",
        "        u = p[:index]\n",
        "        v = p[index:]\n",
        "        print(u)\n",
        "        answer += solution(u)\n",
        "        print(v)\n",
        "        answer += solution(v)\n",
        "    elif p[-1] == '(':\n",
        "        letters = ''\n",
        "        for letter in p[1:-1]:\n",
        "            if letter == '':\n",
        "                break\n",
        "            elif letter == '(':\n",
        "                letters += ')'\n",
        "            else:\n",
        "                letters += '('\n",
        "        answer = '(' + letters + ')'\n",
        "    else:\n",
        "        answer = p\n",
        "    print(f\"출력:{answer}\\n\")\n",
        "        \n",
        "    return answer"
      ],
      "metadata": {
        "id": "gWAtSq28XzW1"
      },
      "execution_count": 40,
      "outputs": []
    },
    {
      "cell_type": "code",
      "source": [
        "solution('()))((()')"
      ],
      "metadata": {
        "colab": {
          "base_uri": "https://localhost:8080/",
          "height": 821
        },
        "id": "9vFl-YzDY25t",
        "outputId": "1ca1a8dc-6fca-439d-d00d-ac04a6f9147e"
      },
      "execution_count": 41,
      "outputs": [
        {
          "output_type": "stream",
          "name": "stdout",
          "text": [
            "0\n",
            "두번째 1\n",
            "1\n",
            "첫번째 0\n",
            "()\n",
            "0\n",
            "두번째 1\n",
            "1\n",
            "첫번째 0\n",
            "출력:()\n",
            "\n",
            "))((()\n",
            "0\n",
            "첫번째 -1\n",
            "1\n",
            "첫번째 -2\n",
            "2\n",
            "두번째 -1\n",
            "3\n",
            "두번째 0\n",
            "))((\n",
            "0\n",
            "첫번째 -1\n",
            "1\n",
            "첫번째 -2\n",
            "2\n",
            "두번째 -1\n",
            "3\n",
            "두번째 0\n",
            "출력:(())\n",
            "\n",
            "()\n",
            "0\n",
            "두번째 1\n",
            "1\n",
            "첫번째 0\n",
            "출력:()\n",
            "\n",
            "출력:(())()\n",
            "\n",
            "출력:()(())()\n",
            "\n"
          ]
        },
        {
          "output_type": "execute_result",
          "data": {
            "text/plain": [
              "'()(())()'"
            ],
            "application/vnd.google.colaboratory.intrinsic+json": {
              "type": "string"
            }
          },
          "metadata": {},
          "execution_count": 41
        }
      ]
    }
  ]
}